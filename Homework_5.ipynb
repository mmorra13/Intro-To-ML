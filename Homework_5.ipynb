{
  "nbformat": 4,
  "nbformat_minor": 0,
  "metadata": {
    "colab": {
      "provenance": [],
      "authorship_tag": "ABX9TyPmgQ0rjKKZdGCaSeUJqin0",
      "include_colab_link": true
    },
    "kernelspec": {
      "name": "python3",
      "display_name": "Python 3"
    },
    "language_info": {
      "name": "python"
    }
  },
  "cells": [
    {
      "cell_type": "markdown",
      "metadata": {
        "id": "view-in-github",
        "colab_type": "text"
      },
      "source": [
        "<a href=\"https://colab.research.google.com/github/mmorra13/Intro-To-ML/blob/main/Homework_5.ipynb\" target=\"_parent\"><img src=\"https://colab.research.google.com/assets/colab-badge.svg\" alt=\"Open In Colab\"/></a>"
      ]
    },
    {
      "cell_type": "code",
      "execution_count": 2,
      "metadata": {
        "colab": {
          "base_uri": "https://localhost:8080/"
        },
        "id": "wi87obFi46y7",
        "outputId": "ad1f54d2-2099-4e0d-e251-c07469505648"
      },
      "outputs": [
        {
          "output_type": "stream",
          "name": "stdout",
          "text": [
            "Mounted at /content/drive\n"
          ]
        }
      ],
      "source": [
        "import torch as torch\n",
        "import numpy as np\n",
        "import pandas as pd\n",
        "import matplotlib.pyplot as plt\n",
        "from torch.nn.functional import normalize\n",
        "import torch.optim as optim\n",
        "from google.colab import drive\n",
        "from sklearn.preprocessing import StandardScaler\n",
        "from sklearn.model_selection import train_test_split\n",
        "drive.mount('/content/drive')"
      ]
    },
    {
      "cell_type": "code",
      "source": [
        "#PROBLEM 1\n",
        "#DATA FROM SLIDES\n",
        "t_c = [0.5, 14.0, 15.0, 28.0, 11.0, 8.0, 3.0, -4.0, 6.0, 13.0, 21.0]\n",
        "t_u = [35.7, 55.9, 58.2, 81.9, 56.3, 48.9, 33.9, 21.8, 48.4, 60.4, 68.4]\n",
        "t_c = torch.tensor(t_c)\n",
        "t_u = torch.tensor(t_u)\n",
        "t_un = normalize(t_u, p=0, dim=0)\n",
        "t_un"
      ],
      "metadata": {
        "colab": {
          "base_uri": "https://localhost:8080/"
        },
        "id": "uFr9jTV069xL",
        "outputId": "b749bb46-5a02-408b-a66f-ac820bc474f3"
      },
      "execution_count": null,
      "outputs": [
        {
          "output_type": "execute_result",
          "data": {
            "text/plain": [
              "tensor([3.2455, 5.0818, 5.2909, 7.4455, 5.1182, 4.4455, 3.0818, 1.9818, 4.4000,\n",
              "        5.4909, 6.2182])"
            ]
          },
          "metadata": {},
          "execution_count": 278
        }
      ]
    },
    {
      "cell_type": "code",
      "source": [
        "#Define non-linear model\n",
        "def model1(t_u, w2, w1, b) :\n",
        "  return w2*t_u**2+w1*t_u+b"
      ],
      "metadata": {
        "id": "lWXqgaeK7qI5"
      },
      "execution_count": null,
      "outputs": []
    },
    {
      "cell_type": "code",
      "source": [
        "#Define loss\n",
        "def loss_fn(t_p, t_c) :\n",
        "  squared_diffs = (t_p - t_c)**2\n",
        "  return squared_diffs.mean()"
      ],
      "metadata": {
        "id": "Dxfb0BBx8E7Q"
      },
      "execution_count": null,
      "outputs": []
    },
    {
      "cell_type": "code",
      "source": [
        "#Define training loop\n",
        "def training_loop(n_epochs, optimizer, params1, t_u, t_c):\n",
        "  for epoch in range(1, n_epochs + 1) :\n",
        "    t_p = model1(t_u, *params1)\n",
        "    loss = loss_fn(t_p, t_c)\n",
        "\n",
        "    optimizer.zero_grad()\n",
        "    loss.backward()\n",
        "    optimizer.step()\n",
        "\n",
        "    if epoch % 500 == 0:\n",
        "      print('Epoch %d, Loss %f' % (epoch, float(loss)))\n",
        "\n",
        "  return params1"
      ],
      "metadata": {
        "id": "1LKNr-GL8lrV"
      },
      "execution_count": null,
      "outputs": []
    },
    {
      "cell_type": "code",
      "source": [
        "params1 = torch.tensor([1.0, 1.0, 0.0], requires_grad = True)\n",
        "model1(t_u, *params1)"
      ],
      "metadata": {
        "colab": {
          "base_uri": "https://localhost:8080/"
        },
        "id": "woD2AreKdSjh",
        "outputId": "814e302f-4995-4abe-a766-48aaab58f6cb"
      },
      "execution_count": null,
      "outputs": [
        {
          "output_type": "execute_result",
          "data": {
            "text/plain": [
              "tensor([1310.1901, 3180.7100, 3445.4399, 6789.5103, 3225.9900, 2440.1101,\n",
              "        1183.1101,  497.0399, 2390.9600, 3708.5601, 4746.9600],\n",
              "       grad_fn=<AddBackward0>)"
            ]
          },
          "metadata": {},
          "execution_count": 290
        }
      ]
    },
    {
      "cell_type": "code",
      "source": [
        "params1 = torch.tensor([1.0, 1.0, 0.0], requires_grad = True)\n",
        "learning_rate = 0.001 #Vary from 0.1 to 0.0001 -> Choose best (0.001 is best)\n",
        "optimizerSGD = optim.SGD([params1], lr=learning_rate)\n",
        "\n",
        "#Training with SGD optimizer\n",
        "training_loop(\n",
        "    n_epochs = 5000,\n",
        "    optimizer = optimizerSGD,\n",
        "    params1 = params1,\n",
        "    t_u = t_un,\n",
        "    t_c = t_c)\n"
      ],
      "metadata": {
        "colab": {
          "base_uri": "https://localhost:8080/"
        },
        "id": "KX9cogwe-xpc",
        "outputId": "07fe7e4d-aa4f-4529-d03f-76db0d93cdbf"
      },
      "execution_count": null,
      "outputs": [
        {
          "output_type": "stream",
          "name": "stdout",
          "text": [
            "Epoch 500, Loss 4.023893\n",
            "Epoch 1000, Loss 3.485114\n",
            "Epoch 1500, Loss 3.421723\n",
            "Epoch 2000, Loss 3.385779\n",
            "Epoch 2500, Loss 3.352207\n",
            "Epoch 3000, Loss 3.319582\n",
            "Epoch 3500, Loss 3.287806\n",
            "Epoch 4000, Loss 3.256852\n",
            "Epoch 4500, Loss 3.226698\n",
            "Epoch 5000, Loss 3.197325\n"
          ]
        },
        {
          "output_type": "execute_result",
          "data": {
            "text/plain": [
              "tensor([ 0.7060, -0.9193, -2.2191], requires_grad=True)"
            ]
          },
          "metadata": {},
          "execution_count": 269
        }
      ]
    },
    {
      "cell_type": "code",
      "source": [
        "params1 = torch.tensor([1.0, 1.0, 0.0], requires_grad = True)\n",
        "learning_rate = 0.1 #Vary from 0.1 to 0.0001 -> Choose best (0.1 is best)\n",
        "optimizerAdam = optim.Adam([params1], lr=learning_rate)\n",
        "\n",
        "#Training with Adam optimizer\n",
        "training_loop(\n",
        "    n_epochs = 5000,\n",
        "    optimizer = optimizerAdam,\n",
        "    params1 = params1,\n",
        "    t_u = t_u,\n",
        "    t_c = t_c)"
      ],
      "metadata": {
        "colab": {
          "base_uri": "https://localhost:8080/"
        },
        "id": "lAA6yMtKAx4V",
        "outputId": "6f1fe314-431a-4189-b8ca-4272d606b425"
      },
      "execution_count": null,
      "outputs": [
        {
          "output_type": "stream",
          "name": "stdout",
          "text": [
            "Epoch 500, Loss 4.844501\n",
            "Epoch 1000, Loss 3.785644\n",
            "Epoch 1500, Loss 3.466676\n",
            "Epoch 2000, Loss 3.406405\n",
            "Epoch 2500, Loss 3.377975\n",
            "Epoch 3000, Loss 3.344335\n",
            "Epoch 3500, Loss 3.301921\n",
            "Epoch 4000, Loss 3.249141\n",
            "Epoch 4500, Loss 3.184418\n",
            "Epoch 5000, Loss 3.106353\n"
          ]
        },
        {
          "output_type": "execute_result",
          "data": {
            "text/plain": [
              "tensor([ 0.0057, -0.0683, -2.5687], requires_grad=True)"
            ]
          },
          "metadata": {},
          "execution_count": 270
        }
      ]
    },
    {
      "cell_type": "code",
      "source": [
        "#Visualize\n",
        "#Linear from lecture\n",
        "lin_lec = [0.5367, -17.3021]\n",
        "\n",
        "#From above code\n",
        "nonlin_SGD = [0.7060, -0.9193, -2.2191]\n",
        "nonlin_Adam = [0.0057, -0.0683, -2.5687]\n",
        "\n",
        "pred1 = t_u*lin_lec[0]+lin_lec[1]\n",
        "pred2 = nonlin_Adam[0]*t_u**2+nonlin_Adam[1]*t_u+nonlin_Adam[2]"
      ],
      "metadata": {
        "id": "X-lllVysIoNj"
      },
      "execution_count": null,
      "outputs": []
    },
    {
      "cell_type": "code",
      "source": [
        "plt.scatter(t_u, pred1)\n",
        "plt.title('Results of Linear Model')\n",
        "plt.xlabel(\"Measurement\")\n",
        "plt.ylabel('Temperature - Celsius')"
      ],
      "metadata": {
        "colab": {
          "base_uri": "https://localhost:8080/",
          "height": 489
        },
        "id": "h9Np2znOMiM7",
        "outputId": "481aca93-8d80-43f8-8894-245ff74f4440"
      },
      "execution_count": null,
      "outputs": [
        {
          "output_type": "execute_result",
          "data": {
            "text/plain": [
              "Text(0, 0.5, 'Temperature - Celsius')"
            ]
          },
          "metadata": {},
          "execution_count": 272
        },
        {
          "output_type": "display_data",
          "data": {
            "text/plain": [
              "<Figure size 640x480 with 1 Axes>"
            ],
            "image/png": "[encoded data removed]"
          },
          "metadata": {}
        }
      ]
    },
    {
      "cell_type": "code",
      "source": [
        "plt.scatter(t_u,pred2)\n",
        "plt.title('Results of Non-Linear Model - Adam Optimizer')\n",
        "plt.xlabel(\"Measurement\")\n",
        "plt.ylabel('Temperature - Celsius')"
      ],
      "metadata": {
        "colab": {
          "base_uri": "https://localhost:8080/",
          "height": 489
        },
        "id": "pHrA_rQwLIRN",
        "outputId": "202005d7-d670-4c5c-b050-ac796a3e8dc7"
      },
      "execution_count": null,
      "outputs": [
        {
          "output_type": "execute_result",
          "data": {
            "text/plain": [
              "Text(0, 0.5, 'Temperature - Celsius')"
            ]
          },
          "metadata": {},
          "execution_count": 276
        },
        {
          "output_type": "display_data",
          "data": {
            "text/plain": [
              "<Figure size 640x480 with 1 Axes>"
            ],
            "image/png": "[encoded data removed]"
          },
          "metadata": {}
        }
      ]
    },
    {
      "cell_type": "code",
      "source": [
        "#PROBLEM 2\n",
        "# Load the housing dataset\n",
        "file_path = '/content/drive/My Drive/Courses/Intro-to-ML/Datasets/Housing.csv'\n",
        "housing = pd.DataFrame(pd.read_csv(file_path))"
      ],
      "metadata": {
        "id": "0-LA1zrXLeBu"
      },
      "execution_count": 3,
      "outputs": []
    },
    {
      "cell_type": "code",
      "source": [
        "varlist2 = ['mainroad','guestroom','basement','hotwaterheating','airconditioning','prefarea']\n",
        "\n",
        "#Defining map function\n",
        "def binary_map(x):\n",
        "  return x.map({'yes': 1, 'no': 0})\n",
        "\n",
        "#Applying the function to the housing list\n",
        "housing[varlist2] = housing[varlist2].apply(binary_map)"
      ],
      "metadata": {
        "id": "DObKK6iPNbRL"
      },
      "execution_count": 4,
      "outputs": []
    },
    {
      "cell_type": "code",
      "source": [
        "#Standardizing non-binary input values\n",
        "sc = StandardScaler()\n",
        "num_vars2 = ['area','bedrooms','bathrooms','stories','parking']\n",
        "housing[num_vars2] = sc.fit_transform(housing[num_vars2])\n",
        "housing.head()"
      ],
      "metadata": {
        "colab": {
          "base_uri": "https://localhost:8080/",
          "height": 226
        },
        "id": "wA7zkceYNnp0",
        "outputId": "23563e7e-6e25-4ae6-c35c-abc6d7405374"
      },
      "execution_count": 5,
      "outputs": [
        {
          "output_type": "execute_result",
          "data": {
            "text/plain": [
              "      price      area  bedrooms  bathrooms   stories  mainroad  guestroom  \\\n",
              "0  13300000  1.046726  1.403419   1.421812  1.378217         1          0   \n",
              "1  12250000  1.757010  1.403419   5.405809  2.532024         1          0   \n",
              "2  12250000  2.218232  0.047278   1.421812  0.224410         1          0   \n",
              "3  12215000  1.083624  1.403419   1.421812  0.224410         1          0   \n",
              "4  11410000  1.046726  1.403419  -0.570187  0.224410         1          1   \n",
              "\n",
              "   basement  hotwaterheating  airconditioning   parking  prefarea  \\\n",
              "0         0                0                1  1.517692         1   \n",
              "1         0                0                1  2.679409         0   \n",
              "2         1                0                0  1.517692         1   \n",
              "3         1                0                1  2.679409         1   \n",
              "4         1                0                1  1.517692         0   \n",
              "\n",
              "  furnishingstatus  \n",
              "0        furnished  \n",
              "1        furnished  \n",
              "2   semi-furnished  \n",
              "3        furnished  \n",
              "4        furnished  "
            ],
            "text/html": [
              "\n",
              "  <div id=\"df-7620e35a-39d6-4aa4-9380-c821b0b69599\" class=\"colab-df-container\">\n",
              "    <div>\n",
              "<style scoped>\n",
              "    .dataframe tbody tr th:only-of-type {\n",
              "        vertical-align: middle;\n",
              "    }\n",
              "\n",
              "    .dataframe tbody tr th {\n",
              "        vertical-align: top;\n",
              "    }\n",
              "\n",
              "    .dataframe thead th {\n",
              "        text-align: right;\n",
              "    }\n",
              "</style>\n",
              "<table border=\"1\" class=\"dataframe\">\n",
              "  <thead>\n",
              "    <tr style=\"text-align: right;\">\n",
              "      <th></th>\n",
              "      <th>price</th>\n",
              "      <th>area</th>\n",
              "      <th>bedrooms</th>\n",
              "      <th>bathrooms</th>\n",
              "      <th>stories</th>\n",
              "      <th>mainroad</th>\n",
              "      <th>guestroom</th>\n",
              "      <th>basement</th>\n",
              "      <th>hotwaterheating</th>\n",
              "      <th>airconditioning</th>\n",
              "      <th>parking</th>\n",
              "      <th>prefarea</th>\n",
              "      <th>furnishingstatus</th>\n",
              "    </tr>\n",
              "  </thead>\n",
              "  <tbody>\n",
              "    <tr>\n",
              "      <th>0</th>\n",
              "      <td>13300000</td>\n",
              "      <td>1.046726</td>\n",
              "      <td>1.403419</td>\n",
              "      <td>1.421812</td>\n",
              "      <td>1.378217</td>\n",
              "      <td>1</td>\n",
              "      <td>0</td>\n",
              "      <td>0</td>\n",
              "      <td>0</td>\n",
              "      <td>1</td>\n",
              "      <td>1.517692</td>\n",
              "      <td>1</td>\n",
              "      <td>furnished</td>\n",
              "    </tr>\n",
              "    <tr>\n",
              "      <th>1</th>\n",
              "      <td>12250000</td>\n",
              "      <td>1.757010</td>\n",
              "      <td>1.403419</td>\n",
              "      <td>5.405809</td>\n",
              "      <td>2.532024</td>\n",
              "      <td>1</td>\n",
              "      <td>0</td>\n",
              "      <td>0</td>\n",
              "      <td>0</td>\n",
              "      <td>1</td>\n",
              "      <td>2.679409</td>\n",
              "      <td>0</td>\n",
              "      <td>furnished</td>\n",
              "    </tr>\n",
              "    <tr>\n",
              "      <th>2</th>\n",
              "      <td>12250000</td>\n",
              "      <td>2.218232</td>\n",
              "      <td>0.047278</td>\n",
              "      <td>1.421812</td>\n",
              "      <td>0.224410</td>\n",
              "      <td>1</td>\n",
              "      <td>0</td>\n",
              "      <td>1</td>\n",
              "      <td>0</td>\n",
              "      <td>0</td>\n",
              "      <td>1.517692</td>\n",
              "      <td>1</td>\n",
              "      <td>semi-furnished</td>\n",
              "    </tr>\n",
              "    <tr>\n",
              "      <th>3</th>\n",
              "      <td>12215000</td>\n",
              "      <td>1.083624</td>\n",
              "      <td>1.403419</td>\n",
              "      <td>1.421812</td>\n",
              "      <td>0.224410</td>\n",
              "      <td>1</td>\n",
              "      <td>0</td>\n",
              "      <td>1</td>\n",
              "      <td>0</td>\n",
              "      <td>1</td>\n",
              "      <td>2.679409</td>\n",
              "      <td>1</td>\n",
              "      <td>furnished</td>\n",
              "    </tr>\n",
              "    <tr>\n",
              "      <th>4</th>\n",
              "      <td>11410000</td>\n",
              "      <td>1.046726</td>\n",
              "      <td>1.403419</td>\n",
              "      <td>-0.570187</td>\n",
              "      <td>0.224410</td>\n",
              "      <td>1</td>\n",
              "      <td>1</td>\n",
              "      <td>1</td>\n",
              "      <td>0</td>\n",
              "      <td>1</td>\n",
              "      <td>1.517692</td>\n",
              "      <td>0</td>\n",
              "      <td>furnished</td>\n",
              "    </tr>\n",
              "  </tbody>\n",
              "</table>\n",
              "</div>\n",
              "    <div class=\"colab-df-buttons\">\n",
              "\n",
              "  <div class=\"colab-df-container\">\n",
              "    <button class=\"colab-df-convert\" onclick=\"convertToInteractive('df-7620e35a-39d6-4aa4-9380-c821b0b69599')\"\n",
              "            title=\"Convert this dataframe to an interactive table.\"\n",
              "            style=\"display:none;\">\n",
              "\n",
              "  <svg xmlns=\"http://www.w3.org/2000/svg\" height=\"24px\" viewBox=\"0 -960 960 960\">\n",
              "    <path d=\"M120-120v-720h720v720H120Zm60-500h600v-160H180v160Zm220 220h160v-160H400v160Zm0 220h160v-160H400v160ZM180-400h160v-160H180v160Zm440 0h160v-160H620v160ZM180-180h160v-160H180v160Zm440 0h160v-160H620v160Z\"/>\n",
              "  </svg>\n",
              "    </button>\n",
              "\n",
              "  <style>\n",
              "    .colab-df-container {\n",
              "      display:flex;\n",
              "      gap: 12px;\n",
              "    }\n",
              "\n",
              "    .colab-df-convert {\n",
              "      background-color: #E8F0FE;\n",
              "      border: none;\n",
              "      border-radius: 50%;\n",
              "      cursor: pointer;\n",
              "      display: none;\n",
              "      fill: #1967D2;\n",
              "      height: 32px;\n",
              "      padding: 0 0 0 0;\n",
              "      width: 32px;\n",
              "    }\n",
              "\n",
              "    .colab-df-convert:hover {\n",
              "      background-color: #E2EBFA;\n",
              "      box-shadow: 0px 1px 2px rgba(60, 64, 67, 0.3), 0px 1px 3px 1px rgba(60, 64, 67, 0.15);\n",
              "      fill: #174EA6;\n",
              "    }\n",
              "\n",
              "    .colab-df-buttons div {\n",
              "      margin-bottom: 4px;\n",
              "    }\n",
              "\n",
              "    [theme=dark] .colab-df-convert {\n",
              "      background-color: #3B4455;\n",
              "      fill: #D2E3FC;\n",
              "    }\n",
              "\n",
              "    [theme=dark] .colab-df-convert:hover {\n",
              "      background-color: #434B5C;\n",
              "      box-shadow: 0px 1px 3px 1px rgba(0, 0, 0, 0.15);\n",
              "      filter: drop-shadow(0px 1px 2px rgba(0, 0, 0, 0.3));\n",
              "      fill: #FFFFFF;\n",
              "    }\n",
              "  </style>\n",
              "\n",
              "    <script>\n",
              "      const buttonEl =\n",
              "        document.querySelector('#df-7620e35a-39d6-4aa4-9380-c821b0b69599 button.colab-df-convert');\n",
              "      buttonEl.style.display =\n",
              "        google.colab.kernel.accessAllowed ? 'block' : 'none';\n",
              "\n",
              "      async function convertToInteractive(key) {\n",
              "        const element = document.querySelector('#df-7620e35a-39d6-4aa4-9380-c821b0b69599');\n",
              "        const dataTable =\n",
              "          await google.colab.kernel.invokeFunction('convertToInteractive',\n",
              "                                                    [key], {});\n",
              "        if (!dataTable) return;\n",
              "\n",
              "        const docLinkHtml = 'Like what you see? Visit the ' +\n",
              "          '<a target=\"_blank\" href=https://colab.research.google.com/notebooks/data_table.ipynb>data table notebook</a>'\n",
              "          + ' to learn more about interactive tables.';\n",
              "        element.innerHTML = '';\n",
              "        dataTable['output_type'] = 'display_data';\n",
              "        await google.colab.output.renderOutput(dataTable, element);\n",
              "        const docLink = document.createElement('div');\n",
              "        docLink.innerHTML = docLinkHtml;\n",
              "        element.appendChild(docLink);\n",
              "      }\n",
              "    </script>\n",
              "  </div>\n",
              "\n",
              "\n",
              "<div id=\"df-2185517c-4bad-4f80-8801-f29bd4ec502c\">\n",
              "  <button class=\"colab-df-quickchart\" onclick=\"quickchart('df-2185517c-4bad-4f80-8801-f29bd4ec502c')\"\n",
              "            title=\"Suggest charts\"\n",
              "            style=\"display:none;\">\n",
              "\n",
              "<svg xmlns=\"http://www.w3.org/2000/svg\" height=\"24px\"viewBox=\"0 0 24 24\"\n",
              "     width=\"24px\">\n",
              "    <g>\n",
              "        <path d=\"M19 3H5c-1.1 0-2 .9-2 2v14c0 1.1.9 2 2 2h14c1.1 0 2-.9 2-2V5c0-1.1-.9-2-2-2zM9 17H7v-7h2v7zm4 0h-2V7h2v10zm4 0h-2v-4h2v4z\"/>\n",
              "    </g>\n",
              "</svg>\n",
              "  </button>\n",
              "\n",
              "<style>\n",
              "  .colab-df-quickchart {\n",
              "      --bg-color: #E8F0FE;\n",
              "      --fill-color: #1967D2;\n",
              "      --hover-bg-color: #E2EBFA;\n",
              "      --hover-fill-color: #174EA6;\n",
              "      --disabled-fill-color: #AAA;\n",
              "      --disabled-bg-color: #DDD;\n",
              "  }\n",
              "\n",
              "  [theme=dark] .colab-df-quickchart {\n",
              "      --bg-color: #3B4455;\n",
              "      --fill-color: #D2E3FC;\n",
              "      --hover-bg-color: #434B5C;\n",
              "      --hover-fill-color: #FFFFFF;\n",
              "      --disabled-bg-color: #3B4455;\n",
              "      --disabled-fill-color: #666;\n",
              "  }\n",
              "\n",
              "  .colab-df-quickchart {\n",
              "    background-color: var(--bg-color);\n",
              "    border: none;\n",
              "    border-radius: 50%;\n",
              "    cursor: pointer;\n",
              "    display: none;\n",
              "    fill: var(--fill-color);\n",
              "    height: 32px;\n",
              "    padding: 0;\n",
              "    width: 32px;\n",
              "  }\n",
              "\n",
              "  .colab-df-quickchart:hover {\n",
              "    background-color: var(--hover-bg-color);\n",
              "    box-shadow: 0 1px 2px rgba(60, 64, 67, 0.3), 0 1px 3px 1px rgba(60, 64, 67, 0.15);\n",
              "    fill: var(--button-hover-fill-color);\n",
              "  }\n",
              "\n",
              "  .colab-df-quickchart-complete:disabled,\n",
              "  .colab-df-quickchart-complete:disabled:hover {\n",
              "    background-color: var(--disabled-bg-color);\n",
              "    fill: var(--disabled-fill-color);\n",
              "    box-shadow: none;\n",
              "  }\n",
              "\n",
              "  .colab-df-spinner {\n",
              "    border: 2px solid var(--fill-color);\n",
              "    border-color: transparent;\n",
              "    border-bottom-color: var(--fill-color);\n",
              "    animation:\n",
              "      spin 1s steps(1) infinite;\n",
              "  }\n",
              "\n",
              "  @keyframes spin {\n",
              "    0% {\n",
              "      border-color: transparent;\n",
              "      border-bottom-color: var(--fill-color);\n",
              "      border-left-color: var(--fill-color);\n",
              "    }\n",
              "    20% {\n",
              "      border-color: transparent;\n",
              "      border-left-color: var(--fill-color);\n",
              "      border-top-color: var(--fill-color);\n",
              "    }\n",
              "    30% {\n",
              "      border-color: transparent;\n",
              "      border-left-color: var(--fill-color);\n",
              "      border-top-color: var(--fill-color);\n",
              "      border-right-color: var(--fill-color);\n",
              "    }\n",
              "    40% {\n",
              "      border-color: transparent;\n",
              "      border-right-color: var(--fill-color);\n",
              "      border-top-color: var(--fill-color);\n",
              "    }\n",
              "    60% {\n",
              "      border-color: transparent;\n",
              "      border-right-color: var(--fill-color);\n",
              "    }\n",
              "    80% {\n",
              "      border-color: transparent;\n",
              "      border-right-color: var(--fill-color);\n",
              "      border-bottom-color: var(--fill-color);\n",
              "    }\n",
              "    90% {\n",
              "      border-color: transparent;\n",
              "      border-bottom-color: var(--fill-color);\n",
              "    }\n",
              "  }\n",
              "</style>\n",
              "\n",
              "  <script>\n",
              "    async function quickchart(key) {\n",
              "      const quickchartButtonEl =\n",
              "        document.querySelector('#' + key + ' button');\n",
              "      quickchartButtonEl.disabled = true;  // To prevent multiple clicks.\n",
              "      quickchartButtonEl.classList.add('colab-df-spinner');\n",
              "      try {\n",
              "        const charts = await google.colab.kernel.invokeFunction(\n",
              "            'suggestCharts', [key], {});\n",
              "      } catch (error) {\n",
              "        console.error('Error during call to suggestCharts:', error);\n",
              "      }\n",
              "      quickchartButtonEl.classList.remove('colab-df-spinner');\n",
              "      quickchartButtonEl.classList.add('colab-df-quickchart-complete');\n",
              "    }\n",
              "    (() => {\n",
              "      let quickchartButtonEl =\n",
              "        document.querySelector('#df-2185517c-4bad-4f80-8801-f29bd4ec502c button');\n",
              "      quickchartButtonEl.style.display =\n",
              "        google.colab.kernel.accessAllowed ? 'block' : 'none';\n",
              "    })();\n",
              "  </script>\n",
              "</div>\n",
              "    </div>\n",
              "  </div>\n"
            ]
          },
          "metadata": {},
          "execution_count": 5
        }
      ]
    },
    {
      "cell_type": "code",
      "source": [
        "#Extracting desired inputs\n",
        "inputs1 = ['area','bedrooms','bathrooms','stories','parking']\n",
        "X2 = torch.tensor(housing[inputs1].values)\n",
        "\n",
        "#Extraction output\n",
        "Y2 = torch.tensor(housing['price'].values)\n",
        "\n",
        "#Split the dataset into training and test, 80-20 split\n",
        "X2_train, X2_test, Y2_train, Y2_test = train_test_split(X2, Y2, test_size = 0.2, random_state = 0)"
      ],
      "metadata": {
        "id": "0O-2d8-eOFE9"
      },
      "execution_count": 6,
      "outputs": []
    },
    {
      "cell_type": "code",
      "source": [
        "#Define non-linear model\n",
        "def model2(X2, w5, w4, w3, w2, w1, b) :\n",
        "  return w5*X2[:,0]+w4*X2[:,1]+w3*X2[:,2]+w2*X2[:,3]+w1*X2[:,4]+b\n",
        "\n",
        "#Define loss\n",
        "def loss_fn2(Pred, Known) :\n",
        "  squared_diffs = (Pred - Known)**2\n",
        "  return squared_diffs.mean()\n",
        "\n",
        "#Define training loop\n",
        "def training_loop2(n_epochs, optimizer, params2, X2_train, X2_test, Y2_train, Y2_test):\n",
        "  for epoch in range(1, n_epochs + 1) :\n",
        "    train_Y2_pred = model2(X2_train, *params2)\n",
        "    train_loss = loss_fn2(train_Y2_pred, Y2_train)\n",
        "\n",
        "    test_Y2_pred = model2(X2_test, *params2)\n",
        "    test_loss = loss_fn2(test_Y2_pred, Y2_test)\n",
        "\n",
        "    optimizer.zero_grad()\n",
        "    train_loss.backward()\n",
        "    optimizer.step()\n",
        "\n",
        "    if epoch <= 3 or epoch % 500 == 0:\n",
        "      print(f\"Epoch {epoch}, Training Loss {train_loss.item():.4f},\"\n",
        "            f\" Validation Loss {test_loss.item():.4f}\")\n",
        "\n",
        "  return params2"
      ],
      "metadata": {
        "id": "htLQpz8fg7RN"
      },
      "execution_count": 7,
      "outputs": []
    },
    {
      "cell_type": "code",
      "source": [
        "params2 = torch.tensor([1.0, 1.0, 1.0, 1.0, 1.0, 0.0], requires_grad=True)\n",
        "learning_rate2 = 0.0001 #Vary from 0.1 to 0.0001 -> Choose best (0.0001)\n",
        "optimizerSGD = optim.SGD([params2], lr=learning_rate2)\n",
        "\n",
        "#Training with SGD optimizer\n",
        "training_loop2(\n",
        "    n_epochs = 5000,\n",
        "    optimizer = optimizerSGD,\n",
        "    params2 = params2,\n",
        "    X2_train = X2_train,\n",
        "    X2_test = X2_test,\n",
        "    Y2_train = Y2_train,\n",
        "    Y2_test = Y2_test)"
      ],
      "metadata": {
        "colab": {
          "base_uri": "https://localhost:8080/"
        },
        "id": "iMsWED_HiyMx",
        "outputId": "3cafd2bf-1feb-4aa0-fc6c-3e942640da7d"
      },
      "execution_count": 16,
      "outputs": [
        {
          "output_type": "stream",
          "name": "stdout",
          "text": [
            "Epoch 1, Training Loss 26469971396352.9688, Validation Loss 25189236479478.2383\n",
            "Epoch 2, Training Loss 26459356459463.4297, Validation Loss 25178927956966.6367\n",
            "Epoch 3, Training Loss 26448746294663.2695, Validation Loss 25168624078137.2930\n",
            "Epoch 500, Training Loss 21721544724190.3125, Validation Loss 20578815608681.5000\n",
            "Epoch 1000, Training Loss 17907439573826.0898, Validation Loss 16876931915449.6328\n",
            "Epoch 1500, Training Loss 14840864553446.3867, Validation Loss 13901528105174.6289\n",
            "Epoch 2000, Training Loss 12368429626897.8926, Validation Loss 11503320464338.2930\n",
            "Epoch 2500, Training Loss 10370208533784.9375, Validation Loss 9565708012630.5742\n",
            "Epoch 3000, Training Loss 8751885912093.7295, Validation Loss 7997053804335.7559\n",
            "Epoch 3500, Training Loss 7438871927483.5938, Validation Loss 6724919095228.8896\n",
            "Epoch 4000, Training Loss 6371920037532.4717, Validation Loss 5691779844126.8623\n",
            "Epoch 4500, Training Loss 5503751346527.4814, Validation Loss 4851733994232.2275\n",
            "Epoch 5000, Training Loss 4796534880395.4990, Validation Loss 4168049613458.4497\n"
          ]
        },
        {
          "output_type": "execute_result",
          "data": {
            "text/plain": [
              "tensor([ 515989.9062,  256710.4375,  416680.6875,  377944.1562,  358333.9375,\n",
              "        3017171.5000], requires_grad=True)"
            ]
          },
          "metadata": {},
          "execution_count": 16
        }
      ]
    },
    {
      "cell_type": "code",
      "source": [
        "params2 = torch.tensor([1.0, 1.0, 1.0, 1.0, 1.0, 0.0], requires_grad=True)\n",
        "learning_rate2 = 0.1 #Vary from 0.1 to 0.0001 -> Choose best (0.1)\n",
        "optimizerAdam = optim.Adam([params2], lr=learning_rate2)\n",
        "\n",
        "#Training with Adam optimizer\n",
        "training_loop2(\n",
        "    n_epochs = 5000,\n",
        "    optimizer = optimizerAdam,\n",
        "    params2 = params2,\n",
        "    X2_train = X2_train,\n",
        "    X2_test = X2_test,\n",
        "    Y2_train = Y2_train,\n",
        "    Y2_test = Y2_test)"
      ],
      "metadata": {
        "colab": {
          "base_uri": "https://localhost:8080/"
        },
        "id": "7SzfelDSkBXW",
        "outputId": "7b6afcdd-4751-4c9a-fdbc-d5d855bb34c9"
      },
      "execution_count": 11,
      "outputs": [
        {
          "output_type": "stream",
          "name": "stdout",
          "text": [
            "Epoch 1, Training Loss 26469971396352.9688, Validation Loss 25189236479478.2383\n",
            "Epoch 2, Training Loss 26469969583735.4570, Validation Loss 25189234805053.6953\n",
            "Epoch 3, Training Loss 26469967771118.0234, Validation Loss 25189233130629.2383\n",
            "Epoch 500, Training Loss 26469066939676.5703, Validation Loss 25188400979960.2031\n",
            "Epoch 1000, Training Loss 26468160750841.1641, Validation Loss 25187563884247.6641\n",
            "Epoch 1500, Training Loss 26467254605322.7734, Validation Loss 25186726832345.7148\n",
            "Epoch 2000, Training Loss 26466348500311.3633, Validation Loss 25185889820530.3125\n",
            "Epoch 2500, Training Loss 26465442457656.5625, Validation Loss 25185052872774.3984\n",
            "Epoch 3000, Training Loss 26464536510080.1602, Validation Loss 25184216013943.6758\n",
            "Epoch 3500, Training Loss 26463630616297.7891, Validation Loss 25183379210160.0000\n",
            "Epoch 4000, Training Loss 26462724774760.3086, Validation Loss 25182542459965.1016\n",
            "Epoch 4500, Training Loss 26461818985467.7148, Validation Loss 25181705763358.9766\n",
            "Epoch 5000, Training Loss 26460913248420.0078, Validation Loss 25180869120341.6328\n"
          ]
        },
        {
          "output_type": "execute_result",
          "data": {
            "text/plain": [
              "tensor([500.9215, 500.9025, 500.9174, 500.9163, 500.9199, 500.0212],\n",
              "       requires_grad=True)"
            ]
          },
          "metadata": {},
          "execution_count": 11
        }
      ]
    },
    {
      "cell_type": "code",
      "source": [
        "#Extracting desired inputs\n",
        "inputs2 = ['area','bedrooms','bathrooms','stories','mainroad','guestroom','basement','hotwaterheating','airconditioning','prefarea','parking']\n",
        "X3 = torch.tensor(housing[inputs2].values)\n",
        "\n",
        "#Extraction output\n",
        "Y3 = torch.tensor(housing['price'].values)\n",
        "\n",
        "#Split the dataset into training and test, 80-20 split\n",
        "X3_train, X3_test, Y3_train, Y3_test = train_test_split(X3, Y3, test_size = 0.2, random_state = 0)"
      ],
      "metadata": {
        "id": "UQe2jX33kDk_"
      },
      "execution_count": 24,
      "outputs": []
    },
    {
      "cell_type": "code",
      "source": [
        "#Define non-linear model\n",
        "def model3(X2, w11, w10, w9, w8, w7, w6, w5, w4, w3, w2, w1, b) :\n",
        "  return w11*X2[:,0]+w10*X2[:,1]+w9*X2[:,2]+w8*X2[:,3]+w7*X2[:,4]+w6*X2[:,5]+w5*X2[:,6]+w4*X2[:,7]+w3*X2[:,8]+w2*X2[:,9]+w1*X2[:,10]+b\n",
        "\n",
        "#Define loss\n",
        "def loss_fn3(Pred, Known) :\n",
        "  squared_diffs = (Pred - Known)**2\n",
        "  return squared_diffs.mean()\n",
        "\n",
        "#Define training loop\n",
        "def training_loop3(n_epochs, optimizer, params3, X3_train, X3_test, Y3_train, Y3_test):\n",
        "  for epoch in range(1, n_epochs + 1) :\n",
        "    train_Y3_pred = model3(X3_train, *params3)\n",
        "    train_loss = loss_fn3(train_Y3_pred, Y3_train)\n",
        "\n",
        "    test_Y3_pred = model3(X3_test, *params3)\n",
        "    test_loss = loss_fn3(test_Y3_pred, Y3_test)\n",
        "\n",
        "    optimizer.zero_grad()\n",
        "    train_loss.backward()\n",
        "    optimizer.step()\n",
        "\n",
        "    if epoch <= 3 or epoch % 500 == 0:\n",
        "      print(f\"Epoch {epoch}, Training Loss {train_loss.item():.4f},\"\n",
        "            f\" Validation Loss {test_loss.item():.4f}\")\n",
        "\n",
        "  return params3"
      ],
      "metadata": {
        "id": "_XnbE_m-khK5"
      },
      "execution_count": 25,
      "outputs": []
    },
    {
      "cell_type": "code",
      "source": [
        "params3 = torch.tensor([1.0, 1.0, 1.0, 1.0, 1.0, 1.0, 1.0, 1.0, 1.0, 1.0, 1.0, 0.0], requires_grad=True)\n",
        "learning_rate3 = 0.001 #Vary from 0.1 to 0.0001 -> Choose best (0.001)\n",
        "optimizerSGD = optim.SGD([params3], lr=learning_rate3)\n",
        "\n",
        "#Training with Adam optimizer\n",
        "training_loop3(\n",
        "    n_epochs = 5000,\n",
        "    optimizer = optimizerSGD,\n",
        "    params3 = params3,\n",
        "    X3_train = X3_train,\n",
        "    X3_test = X3_test,\n",
        "    Y3_train = Y3_train,\n",
        "    Y3_test = Y3_test)"
      ],
      "metadata": {
        "colab": {
          "base_uri": "https://localhost:8080/"
        },
        "id": "nGvCZ1tdlewa",
        "outputId": "1fc95645-a7fc-462c-e869-0cc3a8365608"
      },
      "execution_count": 22,
      "outputs": [
        {
          "output_type": "stream",
          "name": "stdout",
          "text": [
            "Epoch 1, Training Loss 26469949822748.3516, Validation Loss 25189215889658.6133\n",
            "Epoch 2, Training Loss 26248804901797.6055, Validation Loss 24976128139026.0820\n",
            "Epoch 3, Training Loss 26029630358682.6133, Validation Loss 24764935539480.1641\n",
            "Epoch 500, Training Loss 1842052104771.3584, Validation Loss 1470887087202.6306\n",
            "Epoch 1000, Training Loss 1490066736257.2515, Validation Loss 1169943700902.4331\n",
            "Epoch 1500, Training Loss 1446687296476.2190, Validation Loss 1139289477306.4670\n",
            "Epoch 2000, Training Loss 1416168137549.8967, Validation Loss 1112700993562.7554\n",
            "Epoch 2500, Training Loss 1390876305087.1760, Validation Loss 1088758419135.4839\n",
            "Epoch 3000, Training Loss 1369196386303.3962, Validation Loss 1067605236080.6067\n",
            "Epoch 3500, Training Loss 1350327312262.7959, Validation Loss 1049087272258.2427\n",
            "Epoch 4000, Training Loss 1333763788405.9971, Validation Loss 1032956655951.7368\n",
            "Epoch 4500, Training Loss 1319144212720.0845, Validation Loss 1018943669864.6891\n",
            "Epoch 5000, Training Loss 1306191497649.8193, Validation Loss 1006789768894.9937\n"
          ]
        },
        {
          "output_type": "execute_result",
          "data": {
            "text/plain": [
              "tensor([ 472819.5312,  141679.2188,  531116.0000,  339450.9062, 1364196.8750,\n",
              "         401562.5312,  460106.5000,  478394.2812,  927094.2500,  635910.8750,\n",
              "         179268.5781, 2852316.7500], requires_grad=True)"
            ]
          },
          "metadata": {},
          "execution_count": 22
        }
      ]
    },
    {
      "cell_type": "code",
      "source": [
        "params3 = torch.tensor([1.0, 1.0, 1.0, 1.0, 1.0, 1.0, 1.0, 1.0, 1.0, 1.0, 1.0, 0.0], requires_grad=True)\n",
        "learning_rate3 = 0.01 #Vary from 0.1 to 0.0001 -> Choose best (0.01)\n",
        "optimizerAdam = optim.Adam([params3], lr=learning_rate3)\n",
        "\n",
        "#Training with Adam optimizer\n",
        "training_loop3(\n",
        "    n_epochs = 5000,\n",
        "    optimizer = optimizerAdam,\n",
        "    params3 = params3,\n",
        "    X3_train = X3_train,\n",
        "    X3_test = X3_test,\n",
        "    Y3_train = Y3_train,\n",
        "    Y3_test = Y3_test)"
      ],
      "metadata": {
        "colab": {
          "base_uri": "https://localhost:8080/"
        },
        "id": "DM-m57CTl2jb",
        "outputId": "7b5c56e0-c915-4ad1-a2d0-8eaa8dc51f90"
      },
      "execution_count": 26,
      "outputs": [
        {
          "output_type": "stream",
          "name": "stdout",
          "text": [
            "Epoch 1, Training Loss 26469949822748.3516, Validation Loss 25189215889658.6133\n",
            "Epoch 2, Training Loss 26469949425750.9688, Validation Loss 25189215516318.3320\n",
            "Epoch 3, Training Loss 26469949028753.5820, Validation Loss 25189215142978.0508\n",
            "Epoch 500, Training Loss 26469751722942.8359, Validation Loss 25189029594602.4492\n",
            "Epoch 1000, Training Loss 26469553225517.9180, Validation Loss 25188842925647.9375\n",
            "Epoch 1500, Training Loss 26469354724950.9922, Validation Loss 25188656253696.7031\n",
            "Epoch 2000, Training Loss 26469156225531.8438, Validation Loss 25188469582804.5273\n",
            "Epoch 2500, Training Loss 26468957727219.4453, Validation Loss 25188282912934.1211\n",
            "Epoch 3000, Training Loss 26468759230034.3086, Validation Loss 25188096244104.1328\n",
            "Epoch 3500, Training Loss 26468560762365.5547, Validation Loss 25187909602924.1875\n",
            "Epoch 4000, Training Loss 26468362305293.7109, Validation Loss 25187722971777.8203\n",
            "Epoch 4500, Training Loss 26468163849348.6953, Validation Loss 25187536341671.4727\n",
            "Epoch 5000, Training Loss 26467965394530.5234, Validation Loss 25187349712605.1484\n"
          ]
        },
        {
          "output_type": "execute_result",
          "data": {
            "text/plain": [
              "tensor([50.9973, 50.9973, 50.9973, 50.9973, 50.9973, 50.9973, 50.9973, 50.9973,\n",
              "        50.9973, 50.9973, 50.9973, 49.9974], requires_grad=True)"
            ]
          },
          "metadata": {},
          "execution_count": 26
        }
      ]
    }
  ]
}