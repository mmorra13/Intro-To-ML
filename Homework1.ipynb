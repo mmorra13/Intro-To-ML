{
  "nbformat": 4,
  "nbformat_minor": 0,
  "metadata": {
    "colab": {
      "provenance": [],
      "authorship_tag": "ABX9TyOpo7zAdF/ijwaXTRQKaMPr",
      "include_colab_link": true
    },
    "kernelspec": {
      "name": "python3",
      "display_name": "Python 3"
    },
    "language_info": {
      "name": "python"
    }
  },
  "cells": [
    {
      "cell_type": "markdown",
      "metadata": {
        "id": "view-in-github",
        "colab_type": "text"
      },
      "source": [
        "<a href=\"https://colab.research.google.com/github/mmorra13/Intro-To-ML/blob/main/Homework1.ipynb\" target=\"_parent\"><img src=\"https://colab.research.google.com/assets/colab-badge.svg\" alt=\"Open In Colab\"/></a>"
      ]
    },
    {
      "cell_type": "code",
      "execution_count": 84,
      "metadata": {
        "id": "P1DXm29iI-vq",
        "colab": {
          "base_uri": "https://localhost:8080/"
        },
        "outputId": "13b620fa-a62f-49a0-a700-3c76697c6359"
      },
      "outputs": [
        {
          "output_type": "stream",
          "name": "stdout",
          "text": [
            "Drive already mounted at /content/drive; to attempt to forcibly remount, call drive.mount(\"/content/drive\", force_remount=True).\n"
          ]
        }
      ],
      "source": [
        "# Setup\n",
        "import numpy as np\n",
        "import pandas as pd\n",
        "import matplotlib.pyplot as plt\n",
        "from google.colab import drive\n",
        "drive.mount('/content/drive')"
      ]
    },
    {
      "cell_type": "code",
      "source": [
        "# Importing .csv data\n",
        "file_path = '/content/drive/My Drive/Courses/Intro-to-ML/Datasets/D3.csv'\n",
        "sample = pd.DataFrame(pd.read_csv(file_path))\n",
        "sample.head() #Show first 5 of .csv data to confirm import success\n"
      ],
      "metadata": {
        "colab": {
          "base_uri": "https://localhost:8080/",
          "height": 206
        },
        "id": "5yOvOJx_efTT",
        "outputId": "53eedec2-8055-4ce1-9eaa-56c8f144a6d5"
      },
      "execution_count": 85,
      "outputs": [
        {
          "output_type": "execute_result",
          "data": {
            "text/plain": [
              "         X1        X2        X3         Y\n",
              "0  0.000000  3.440000  0.440000  4.387545\n",
              "1  0.040404  0.134949  0.888485  2.679650\n",
              "2  0.080808  0.829899  1.336970  2.968490\n",
              "3  0.121212  1.524848  1.785455  3.254065\n",
              "4  0.161616  2.219798  2.233939  3.536375"
            ],
            "text/html": [
              "\n",
              "  <div id=\"df-8b16b2be-2258-4c7f-a18a-0a2b8acbe829\" class=\"colab-df-container\">\n",
              "    <div>\n",
              "<style scoped>\n",
              "    .dataframe tbody tr th:only-of-type {\n",
              "        vertical-align: middle;\n",
              "    }\n",
              "\n",
              "    .dataframe tbody tr th {\n",
              "        vertical-align: top;\n",
              "    }\n",
              "\n",
              "    .dataframe thead th {\n",
              "        text-align: right;\n",
              "    }\n",
              "</style>\n",
              "<table border=\"1\" class=\"dataframe\">\n",
              "  <thead>\n",
              "    <tr style=\"text-align: right;\">\n",
              "      <th></th>\n",
              "      <th>X1</th>\n",
              "      <th>X2</th>\n",
              "      <th>X3</th>\n",
              "      <th>Y</th>\n",
              "    </tr>\n",
              "  </thead>\n",
              "  <tbody>\n",
              "    <tr>\n",
              "      <th>0</th>\n",
              "      <td>0.000000</td>\n",
              "      <td>3.440000</td>\n",
              "      <td>0.440000</td>\n",
              "      <td>4.387545</td>\n",
              "    </tr>\n",
              "    <tr>\n",
              "      <th>1</th>\n",
              "      <td>0.040404</td>\n",
              "      <td>0.134949</td>\n",
              "      <td>0.888485</td>\n",
              "      <td>2.679650</td>\n",
              "    </tr>\n",
              "    <tr>\n",
              "      <th>2</th>\n",
              "      <td>0.080808</td>\n",
              "      <td>0.829899</td>\n",
              "      <td>1.336970</td>\n",
              "      <td>2.968490</td>\n",
              "    </tr>\n",
              "    <tr>\n",
              "      <th>3</th>\n",
              "      <td>0.121212</td>\n",
              "      <td>1.524848</td>\n",
              "      <td>1.785455</td>\n",
              "      <td>3.254065</td>\n",
              "    </tr>\n",
              "    <tr>\n",
              "      <th>4</th>\n",
              "      <td>0.161616</td>\n",
              "      <td>2.219798</td>\n",
              "      <td>2.233939</td>\n",
              "      <td>3.536375</td>\n",
              "    </tr>\n",
              "  </tbody>\n",
              "</table>\n",
              "</div>\n",
              "    <div class=\"colab-df-buttons\">\n",
              "\n",
              "  <div class=\"colab-df-container\">\n",
              "    <button class=\"colab-df-convert\" onclick=\"convertToInteractive('df-8b16b2be-2258-4c7f-a18a-0a2b8acbe829')\"\n",
              "            title=\"Convert this dataframe to an interactive table.\"\n",
              "            style=\"display:none;\">\n",
              "\n",
              "  <svg xmlns=\"http://www.w3.org/2000/svg\" height=\"24px\" viewBox=\"0 -960 960 960\">\n",
              "    <path d=\"M120-120v-720h720v720H120Zm60-500h600v-160H180v160Zm220 220h160v-160H400v160Zm0 220h160v-160H400v160ZM180-400h160v-160H180v160Zm440 0h160v-160H620v160ZM180-180h160v-160H180v160Zm440 0h160v-160H620v160Z\"/>\n",
              "  </svg>\n",
              "    </button>\n",
              "\n",
              "  <style>\n",
              "    .colab-df-container {\n",
              "      display:flex;\n",
              "      gap: 12px;\n",
              "    }\n",
              "\n",
              "    .colab-df-convert {\n",
              "      background-color: #E8F0FE;\n",
              "      border: none;\n",
              "      border-radius: 50%;\n",
              "      cursor: pointer;\n",
              "      display: none;\n",
              "      fill: #1967D2;\n",
              "      height: 32px;\n",
              "      padding: 0 0 0 0;\n",
              "      width: 32px;\n",
              "    }\n",
              "\n",
              "    .colab-df-convert:hover {\n",
              "      background-color: #E2EBFA;\n",
              "      box-shadow: 0px 1px 2px rgba(60, 64, 67, 0.3), 0px 1px 3px 1px rgba(60, 64, 67, 0.15);\n",
              "      fill: #174EA6;\n",
              "    }\n",
              "\n",
              "    .colab-df-buttons div {\n",
              "      margin-bottom: 4px;\n",
              "    }\n",
              "\n",
              "    [theme=dark] .colab-df-convert {\n",
              "      background-color: #3B4455;\n",
              "      fill: #D2E3FC;\n",
              "    }\n",
              "\n",
              "    [theme=dark] .colab-df-convert:hover {\n",
              "      background-color: #434B5C;\n",
              "      box-shadow: 0px 1px 3px 1px rgba(0, 0, 0, 0.15);\n",
              "      filter: drop-shadow(0px 1px 2px rgba(0, 0, 0, 0.3));\n",
              "      fill: #FFFFFF;\n",
              "    }\n",
              "  </style>\n",
              "\n",
              "    <script>\n",
              "      const buttonEl =\n",
              "        document.querySelector('#df-8b16b2be-2258-4c7f-a18a-0a2b8acbe829 button.colab-df-convert');\n",
              "      buttonEl.style.display =\n",
              "        google.colab.kernel.accessAllowed ? 'block' : 'none';\n",
              "\n",
              "      async function convertToInteractive(key) {\n",
              "        const element = document.querySelector('#df-8b16b2be-2258-4c7f-a18a-0a2b8acbe829');\n",
              "        const dataTable =\n",
              "          await google.colab.kernel.invokeFunction('convertToInteractive',\n",
              "                                                    [key], {});\n",
              "        if (!dataTable) return;\n",
              "\n",
              "        const docLinkHtml = 'Like what you see? Visit the ' +\n",
              "          '<a target=\"_blank\" href=https://colab.research.google.com/notebooks/data_table.ipynb>data table notebook</a>'\n",
              "          + ' to learn more about interactive tables.';\n",
              "        element.innerHTML = '';\n",
              "        dataTable['output_type'] = 'display_data';\n",
              "        await google.colab.output.renderOutput(dataTable, element);\n",
              "        const docLink = document.createElement('div');\n",
              "        docLink.innerHTML = docLinkHtml;\n",
              "        element.appendChild(docLink);\n",
              "      }\n",
              "    </script>\n",
              "  </div>\n",
              "\n",
              "\n",
              "<div id=\"df-22eac955-3c5c-4b06-b169-3ef629d68ed0\">\n",
              "  <button class=\"colab-df-quickchart\" onclick=\"quickchart('df-22eac955-3c5c-4b06-b169-3ef629d68ed0')\"\n",
              "            title=\"Suggest charts.\"\n",
              "            style=\"display:none;\">\n",
              "\n",
              "<svg xmlns=\"http://www.w3.org/2000/svg\" height=\"24px\"viewBox=\"0 0 24 24\"\n",
              "     width=\"24px\">\n",
              "    <g>\n",
              "        <path d=\"M19 3H5c-1.1 0-2 .9-2 2v14c0 1.1.9 2 2 2h14c1.1 0 2-.9 2-2V5c0-1.1-.9-2-2-2zM9 17H7v-7h2v7zm4 0h-2V7h2v10zm4 0h-2v-4h2v4z\"/>\n",
              "    </g>\n",
              "</svg>\n",
              "  </button>\n",
              "\n",
              "<style>\n",
              "  .colab-df-quickchart {\n",
              "      --bg-color: #E8F0FE;\n",
              "      --fill-color: #1967D2;\n",
              "      --hover-bg-color: #E2EBFA;\n",
              "      --hover-fill-color: #174EA6;\n",
              "      --disabled-fill-color: #AAA;\n",
              "      --disabled-bg-color: #DDD;\n",
              "  }\n",
              "\n",
              "  [theme=dark] .colab-df-quickchart {\n",
              "      --bg-color: #3B4455;\n",
              "      --fill-color: #D2E3FC;\n",
              "      --hover-bg-color: #434B5C;\n",
              "      --hover-fill-color: #FFFFFF;\n",
              "      --disabled-bg-color: #3B4455;\n",
              "      --disabled-fill-color: #666;\n",
              "  }\n",
              "\n",
              "  .colab-df-quickchart {\n",
              "    background-color: var(--bg-color);\n",
              "    border: none;\n",
              "    border-radius: 50%;\n",
              "    cursor: pointer;\n",
              "    display: none;\n",
              "    fill: var(--fill-color);\n",
              "    height: 32px;\n",
              "    padding: 0;\n",
              "    width: 32px;\n",
              "  }\n",
              "\n",
              "  .colab-df-quickchart:hover {\n",
              "    background-color: var(--hover-bg-color);\n",
              "    box-shadow: 0 1px 2px rgba(60, 64, 67, 0.3), 0 1px 3px 1px rgba(60, 64, 67, 0.15);\n",
              "    fill: var(--button-hover-fill-color);\n",
              "  }\n",
              "\n",
              "  .colab-df-quickchart-complete:disabled,\n",
              "  .colab-df-quickchart-complete:disabled:hover {\n",
              "    background-color: var(--disabled-bg-color);\n",
              "    fill: var(--disabled-fill-color);\n",
              "    box-shadow: none;\n",
              "  }\n",
              "\n",
              "  .colab-df-spinner {\n",
              "    border: 2px solid var(--fill-color);\n",
              "    border-color: transparent;\n",
              "    border-bottom-color: var(--fill-color);\n",
              "    animation:\n",
              "      spin 1s steps(1) infinite;\n",
              "  }\n",
              "\n",
              "  @keyframes spin {\n",
              "    0% {\n",
              "      border-color: transparent;\n",
              "      border-bottom-color: var(--fill-color);\n",
              "      border-left-color: var(--fill-color);\n",
              "    }\n",
              "    20% {\n",
              "      border-color: transparent;\n",
              "      border-left-color: var(--fill-color);\n",
              "      border-top-color: var(--fill-color);\n",
              "    }\n",
              "    30% {\n",
              "      border-color: transparent;\n",
              "      border-left-color: var(--fill-color);\n",
              "      border-top-color: var(--fill-color);\n",
              "      border-right-color: var(--fill-color);\n",
              "    }\n",
              "    40% {\n",
              "      border-color: transparent;\n",
              "      border-right-color: var(--fill-color);\n",
              "      border-top-color: var(--fill-color);\n",
              "    }\n",
              "    60% {\n",
              "      border-color: transparent;\n",
              "      border-right-color: var(--fill-color);\n",
              "    }\n",
              "    80% {\n",
              "      border-color: transparent;\n",
              "      border-right-color: var(--fill-color);\n",
              "      border-bottom-color: var(--fill-color);\n",
              "    }\n",
              "    90% {\n",
              "      border-color: transparent;\n",
              "      border-bottom-color: var(--fill-color);\n",
              "    }\n",
              "  }\n",
              "</style>\n",
              "\n",
              "  <script>\n",
              "    async function quickchart(key) {\n",
              "      const quickchartButtonEl =\n",
              "        document.querySelector('#' + key + ' button');\n",
              "      quickchartButtonEl.disabled = true;  // To prevent multiple clicks.\n",
              "      quickchartButtonEl.classList.add('colab-df-spinner');\n",
              "      try {\n",
              "        const charts = await google.colab.kernel.invokeFunction(\n",
              "            'suggestCharts', [key], {});\n",
              "      } catch (error) {\n",
              "        console.error('Error during call to suggestCharts:', error);\n",
              "      }\n",
              "      quickchartButtonEl.classList.remove('colab-df-spinner');\n",
              "      quickchartButtonEl.classList.add('colab-df-quickchart-complete');\n",
              "    }\n",
              "    (() => {\n",
              "      let quickchartButtonEl =\n",
              "        document.querySelector('#df-22eac955-3c5c-4b06-b169-3ef629d68ed0 button');\n",
              "      quickchartButtonEl.style.display =\n",
              "        google.colab.kernel.accessAllowed ? 'block' : 'none';\n",
              "    })();\n",
              "  </script>\n",
              "</div>\n",
              "    </div>\n",
              "  </div>\n"
            ]
          },
          "metadata": {},
          "execution_count": 85
        }
      ]
    },
    {
      "cell_type": "code",
      "source": [
        "# Separate each input variable and output\n",
        "X1 = sample.values[:,0] # Input variable X1 from first column\n",
        "X2 = sample.values[:,1] # Input variable X2 from second column\n",
        "X3 = sample.values[:,2] # Input variable X3 from third column\n",
        "Y = sample.values[:,3] #Output Y from fourth column\n",
        "M1 = len(X1) # Number of training examples\n",
        "M2 = len(X2) # Number of training examples\n",
        "M3 = len(X3) # Number of training examples\n",
        "N = len(Y) # Number of training examples\n",
        "\n",
        "#Display first 5 records and the total number of training examples\n",
        "print('X1 = ', X1[: 5])\n",
        "print('X2 = ', X2[: 5])\n",
        "print('X3 = ', X3[: 5])\n",
        "print('Y = ', Y[: 5])\n",
        "print('M1 = ', M1)\n",
        "print('M2 = ', M2)\n",
        "print('M3 = ', M3)\n",
        "print('N = ', N)"
      ],
      "metadata": {
        "colab": {
          "base_uri": "https://localhost:8080/"
        },
        "id": "4qM7Cvj5elX0",
        "outputId": "f7c40092-89eb-47ea-905f-6a27c3634b86"
      },
      "execution_count": 90,
      "outputs": [
        {
          "output_type": "stream",
          "name": "stdout",
          "text": [
            "X1 =  [0.         0.04040404 0.08080808 0.12121212 0.16161616]\n",
            "X2 =  [3.44       0.1349495  0.82989899 1.52484848 2.21979798]\n",
            "X3 =  [0.44       0.88848485 1.3369697  1.78545454 2.23393939]\n",
            "Y =  [4.38754501 2.6796499  2.96848981 3.25406475 3.53637472]\n",
            "M1 =  100\n",
            "M2 =  100\n",
            "M3 =  100\n",
            "N =  100\n"
          ]
        }
      ]
    },
    {
      "cell_type": "code",
      "source": [
        "# Display more of .csv\n",
        "from IPython.display import display\n",
        "display(sample)"
      ],
      "metadata": {
        "colab": {
          "base_uri": "https://localhost:8080/",
          "height": 424
        },
        "id": "DTDiDjP3gGM7",
        "outputId": "acbc81ab-3cff-44a6-c6ca-225a6a371f6d"
      },
      "execution_count": 91,
      "outputs": [
        {
          "output_type": "display_data",
          "data": {
            "text/plain": [
              "          X1        X2        X3         Y\n",
              "0   0.000000  3.440000  0.440000  4.387545\n",
              "1   0.040404  0.134949  0.888485  2.679650\n",
              "2   0.080808  0.829899  1.336970  2.968490\n",
              "3   0.121212  1.524848  1.785455  3.254065\n",
              "4   0.161616  2.219798  2.233939  3.536375\n",
              "..       ...       ...       ...       ...\n",
              "95  3.838384  1.460202  3.046061 -4.440595\n",
              "96  3.878788  2.155152  3.494545 -4.458663\n",
              "97  3.919192  2.850101  3.943030 -4.479995\n",
              "98  3.959596  3.545051  0.391515 -3.304593\n",
              "99  4.000000  0.240000  0.840000 -5.332455\n",
              "\n",
              "[100 rows x 4 columns]"
            ],
            "text/html": [
              "\n",
              "  <div id=\"df-a313cf8c-8ee6-4425-9fc1-4545060bd3ac\" class=\"colab-df-container\">\n",
              "    <div>\n",
              "<style scoped>\n",
              "    .dataframe tbody tr th:only-of-type {\n",
              "        vertical-align: middle;\n",
              "    }\n",
              "\n",
              "    .dataframe tbody tr th {\n",
              "        vertical-align: top;\n",
              "    }\n",
              "\n",
              "    .dataframe thead th {\n",
              "        text-align: right;\n",
              "    }\n",
              "</style>\n",
              "<table border=\"1\" class=\"dataframe\">\n",
              "  <thead>\n",
              "    <tr style=\"text-align: right;\">\n",
              "      <th></th>\n",
              "      <th>X1</th>\n",
              "      <th>X2</th>\n",
              "      <th>X3</th>\n",
              "      <th>Y</th>\n",
              "    </tr>\n",
              "  </thead>\n",
              "  <tbody>\n",
              "    <tr>\n",
              "      <th>0</th>\n",
              "      <td>0.000000</td>\n",
              "      <td>3.440000</td>\n",
              "      <td>0.440000</td>\n",
              "      <td>4.387545</td>\n",
              "    </tr>\n",
              "    <tr>\n",
              "      <th>1</th>\n",
              "      <td>0.040404</td>\n",
              "      <td>0.134949</td>\n",
              "      <td>0.888485</td>\n",
              "      <td>2.679650</td>\n",
              "    </tr>\n",
              "    <tr>\n",
              "      <th>2</th>\n",
              "      <td>0.080808</td>\n",
              "      <td>0.829899</td>\n",
              "      <td>1.336970</td>\n",
              "      <td>2.968490</td>\n",
              "    </tr>\n",
              "    <tr>\n",
              "      <th>3</th>\n",
              "      <td>0.121212</td>\n",
              "      <td>1.524848</td>\n",
              "      <td>1.785455</td>\n",
              "      <td>3.254065</td>\n",
              "    </tr>\n",
              "    <tr>\n",
              "      <th>4</th>\n",
              "      <td>0.161616</td>\n",
              "      <td>2.219798</td>\n",
              "      <td>2.233939</td>\n",
              "      <td>3.536375</td>\n",
              "    </tr>\n",
              "    <tr>\n",
              "      <th>...</th>\n",
              "      <td>...</td>\n",
              "      <td>...</td>\n",
              "      <td>...</td>\n",
              "      <td>...</td>\n",
              "    </tr>\n",
              "    <tr>\n",
              "      <th>95</th>\n",
              "      <td>3.838384</td>\n",
              "      <td>1.460202</td>\n",
              "      <td>3.046061</td>\n",
              "      <td>-4.440595</td>\n",
              "    </tr>\n",
              "    <tr>\n",
              "      <th>96</th>\n",
              "      <td>3.878788</td>\n",
              "      <td>2.155152</td>\n",
              "      <td>3.494545</td>\n",
              "      <td>-4.458663</td>\n",
              "    </tr>\n",
              "    <tr>\n",
              "      <th>97</th>\n",
              "      <td>3.919192</td>\n",
              "      <td>2.850101</td>\n",
              "      <td>3.943030</td>\n",
              "      <td>-4.479995</td>\n",
              "    </tr>\n",
              "    <tr>\n",
              "      <th>98</th>\n",
              "      <td>3.959596</td>\n",
              "      <td>3.545051</td>\n",
              "      <td>0.391515</td>\n",
              "      <td>-3.304593</td>\n",
              "    </tr>\n",
              "    <tr>\n",
              "      <th>99</th>\n",
              "      <td>4.000000</td>\n",
              "      <td>0.240000</td>\n",
              "      <td>0.840000</td>\n",
              "      <td>-5.332455</td>\n",
              "    </tr>\n",
              "  </tbody>\n",
              "</table>\n",
              "<p>100 rows × 4 columns</p>\n",
              "</div>\n",
              "    <div class=\"colab-df-buttons\">\n",
              "\n",
              "  <div class=\"colab-df-container\">\n",
              "    <button class=\"colab-df-convert\" onclick=\"convertToInteractive('df-a313cf8c-8ee6-4425-9fc1-4545060bd3ac')\"\n",
              "            title=\"Convert this dataframe to an interactive table.\"\n",
              "            style=\"display:none;\">\n",
              "\n",
              "  <svg xmlns=\"http://www.w3.org/2000/svg\" height=\"24px\" viewBox=\"0 -960 960 960\">\n",
              "    <path d=\"M120-120v-720h720v720H120Zm60-500h600v-160H180v160Zm220 220h160v-160H400v160Zm0 220h160v-160H400v160ZM180-400h160v-160H180v160Zm440 0h160v-160H620v160ZM180-180h160v-160H180v160Zm440 0h160v-160H620v160Z\"/>\n",
              "  </svg>\n",
              "    </button>\n",
              "\n",
              "  <style>\n",
              "    .colab-df-container {\n",
              "      display:flex;\n",
              "      gap: 12px;\n",
              "    }\n",
              "\n",
              "    .colab-df-convert {\n",
              "      background-color: #E8F0FE;\n",
              "      border: none;\n",
              "      border-radius: 50%;\n",
              "      cursor: pointer;\n",
              "      display: none;\n",
              "      fill: #1967D2;\n",
              "      height: 32px;\n",
              "      padding: 0 0 0 0;\n",
              "      width: 32px;\n",
              "    }\n",
              "\n",
              "    .colab-df-convert:hover {\n",
              "      background-color: #E2EBFA;\n",
              "      box-shadow: 0px 1px 2px rgba(60, 64, 67, 0.3), 0px 1px 3px 1px rgba(60, 64, 67, 0.15);\n",
              "      fill: #174EA6;\n",
              "    }\n",
              "\n",
              "    .colab-df-buttons div {\n",
              "      margin-bottom: 4px;\n",
              "    }\n",
              "\n",
              "    [theme=dark] .colab-df-convert {\n",
              "      background-color: #3B4455;\n",
              "      fill: #D2E3FC;\n",
              "    }\n",
              "\n",
              "    [theme=dark] .colab-df-convert:hover {\n",
              "      background-color: #434B5C;\n",
              "      box-shadow: 0px 1px 3px 1px rgba(0, 0, 0, 0.15);\n",
              "      filter: drop-shadow(0px 1px 2px rgba(0, 0, 0, 0.3));\n",
              "      fill: #FFFFFF;\n",
              "    }\n",
              "  </style>\n",
              "\n",
              "    <script>\n",
              "      const buttonEl =\n",
              "        document.querySelector('#df-a313cf8c-8ee6-4425-9fc1-4545060bd3ac button.colab-df-convert');\n",
              "      buttonEl.style.display =\n",
              "        google.colab.kernel.accessAllowed ? 'block' : 'none';\n",
              "\n",
              "      async function convertToInteractive(key) {\n",
              "        const element = document.querySelector('#df-a313cf8c-8ee6-4425-9fc1-4545060bd3ac');\n",
              "        const dataTable =\n",
              "          await google.colab.kernel.invokeFunction('convertToInteractive',\n",
              "                                                    [key], {});\n",
              "        if (!dataTable) return;\n",
              "\n",
              "        const docLinkHtml = 'Like what you see? Visit the ' +\n",
              "          '<a target=\"_blank\" href=https://colab.research.google.com/notebooks/data_table.ipynb>data table notebook</a>'\n",
              "          + ' to learn more about interactive tables.';\n",
              "        element.innerHTML = '';\n",
              "        dataTable['output_type'] = 'display_data';\n",
              "        await google.colab.output.renderOutput(dataTable, element);\n",
              "        const docLink = document.createElement('div');\n",
              "        docLink.innerHTML = docLinkHtml;\n",
              "        element.appendChild(docLink);\n",
              "      }\n",
              "    </script>\n",
              "  </div>\n",
              "\n",
              "\n",
              "<div id=\"df-90109043-970c-488b-b65d-ec8113677707\">\n",
              "  <button class=\"colab-df-quickchart\" onclick=\"quickchart('df-90109043-970c-488b-b65d-ec8113677707')\"\n",
              "            title=\"Suggest charts.\"\n",
              "            style=\"display:none;\">\n",
              "\n",
              "<svg xmlns=\"http://www.w3.org/2000/svg\" height=\"24px\"viewBox=\"0 0 24 24\"\n",
              "     width=\"24px\">\n",
              "    <g>\n",
              "        <path d=\"M19 3H5c-1.1 0-2 .9-2 2v14c0 1.1.9 2 2 2h14c1.1 0 2-.9 2-2V5c0-1.1-.9-2-2-2zM9 17H7v-7h2v7zm4 0h-2V7h2v10zm4 0h-2v-4h2v4z\"/>\n",
              "    </g>\n",
              "</svg>\n",
              "  </button>\n",
              "\n",
              "<style>\n",
              "  .colab-df-quickchart {\n",
              "      --bg-color: #E8F0FE;\n",
              "      --fill-color: #1967D2;\n",
              "      --hover-bg-color: #E2EBFA;\n",
              "      --hover-fill-color: #174EA6;\n",
              "      --disabled-fill-color: #AAA;\n",
              "      --disabled-bg-color: #DDD;\n",
              "  }\n",
              "\n",
              "  [theme=dark] .colab-df-quickchart {\n",
              "      --bg-color: #3B4455;\n",
              "      --fill-color: #D2E3FC;\n",
              "      --hover-bg-color: #434B5C;\n",
              "      --hover-fill-color: #FFFFFF;\n",
              "      --disabled-bg-color: #3B4455;\n",
              "      --disabled-fill-color: #666;\n",
              "  }\n",
              "\n",
              "  .colab-df-quickchart {\n",
              "    background-color: var(--bg-color);\n",
              "    border: none;\n",
              "    border-radius: 50%;\n",
              "    cursor: pointer;\n",
              "    display: none;\n",
              "    fill: var(--fill-color);\n",
              "    height: 32px;\n",
              "    padding: 0;\n",
              "    width: 32px;\n",
              "  }\n",
              "\n",
              "  .colab-df-quickchart:hover {\n",
              "    background-color: var(--hover-bg-color);\n",
              "    box-shadow: 0 1px 2px rgba(60, 64, 67, 0.3), 0 1px 3px 1px rgba(60, 64, 67, 0.15);\n",
              "    fill: var(--button-hover-fill-color);\n",
              "  }\n",
              "\n",
              "  .colab-df-quickchart-complete:disabled,\n",
              "  .colab-df-quickchart-complete:disabled:hover {\n",
              "    background-color: var(--disabled-bg-color);\n",
              "    fill: var(--disabled-fill-color);\n",
              "    box-shadow: none;\n",
              "  }\n",
              "\n",
              "  .colab-df-spinner {\n",
              "    border: 2px solid var(--fill-color);\n",
              "    border-color: transparent;\n",
              "    border-bottom-color: var(--fill-color);\n",
              "    animation:\n",
              "      spin 1s steps(1) infinite;\n",
              "  }\n",
              "\n",
              "  @keyframes spin {\n",
              "    0% {\n",
              "      border-color: transparent;\n",
              "      border-bottom-color: var(--fill-color);\n",
              "      border-left-color: var(--fill-color);\n",
              "    }\n",
              "    20% {\n",
              "      border-color: transparent;\n",
              "      border-left-color: var(--fill-color);\n",
              "      border-top-color: var(--fill-color);\n",
              "    }\n",
              "    30% {\n",
              "      border-color: transparent;\n",
              "      border-left-color: var(--fill-color);\n",
              "      border-top-color: var(--fill-color);\n",
              "      border-right-color: var(--fill-color);\n",
              "    }\n",
              "    40% {\n",
              "      border-color: transparent;\n",
              "      border-right-color: var(--fill-color);\n",
              "      border-top-color: var(--fill-color);\n",
              "    }\n",
              "    60% {\n",
              "      border-color: transparent;\n",
              "      border-right-color: var(--fill-color);\n",
              "    }\n",
              "    80% {\n",
              "      border-color: transparent;\n",
              "      border-right-color: var(--fill-color);\n",
              "      border-bottom-color: var(--fill-color);\n",
              "    }\n",
              "    90% {\n",
              "      border-color: transparent;\n",
              "      border-bottom-color: var(--fill-color);\n",
              "    }\n",
              "  }\n",
              "</style>\n",
              "\n",
              "  <script>\n",
              "    async function quickchart(key) {\n",
              "      const quickchartButtonEl =\n",
              "        document.querySelector('#' + key + ' button');\n",
              "      quickchartButtonEl.disabled = true;  // To prevent multiple clicks.\n",
              "      quickchartButtonEl.classList.add('colab-df-spinner');\n",
              "      try {\n",
              "        const charts = await google.colab.kernel.invokeFunction(\n",
              "            'suggestCharts', [key], {});\n",
              "      } catch (error) {\n",
              "        console.error('Error during call to suggestCharts:', error);\n",
              "      }\n",
              "      quickchartButtonEl.classList.remove('colab-df-spinner');\n",
              "      quickchartButtonEl.classList.add('colab-df-quickchart-complete');\n",
              "    }\n",
              "    (() => {\n",
              "      let quickchartButtonEl =\n",
              "        document.querySelector('#df-90109043-970c-488b-b65d-ec8113677707 button');\n",
              "      quickchartButtonEl.style.display =\n",
              "        google.colab.kernel.accessAllowed ? 'block' : 'none';\n",
              "    })();\n",
              "  </script>\n",
              "</div>\n",
              "    </div>\n",
              "  </div>\n"
            ]
          },
          "metadata": {}
        }
      ]
    },
    {
      "cell_type": "code",
      "source": [
        "# Preparing X1\n",
        "X1_ones = np.ones((M1,1)) # Creating column vector of ones\n",
        "X1_reshape = X1.reshape(M1,1) #Reshape X1 to make a 2D array suitable for matrix operations\n",
        "X1_reshape[:10] # Showing the change to be vertical\n",
        "X1 = np.hstack((X1_ones, X1_reshape)) # Stacking ones vector and X1 data into the same array as adjacent columns\n",
        "X1[:5] # Showing the above"
      ],
      "metadata": {
        "colab": {
          "base_uri": "https://localhost:8080/"
        },
        "id": "4puV6EmahQH6",
        "outputId": "f04d0f6d-4fa6-4bf7-9b5f-cfd2380a5c3c"
      },
      "execution_count": 92,
      "outputs": [
        {
          "output_type": "execute_result",
          "data": {
            "text/plain": [
              "array([[1.        , 0.        ],\n",
              "       [1.        , 0.04040404],\n",
              "       [1.        , 0.08080808],\n",
              "       [1.        , 0.12121212],\n",
              "       [1.        , 0.16161616]])"
            ]
          },
          "metadata": {},
          "execution_count": 92
        }
      ]
    },
    {
      "cell_type": "code",
      "source": [
        "# Preparing X2\n",
        "X2_ones = np.ones((M2,1)) # Creating column vector of ones\n",
        "X2_reshape = X2.reshape(M2,1) #Reshape X1 to make a 2D array suitable for matrix operations\n",
        "X2_reshape[:10] # Showing the change to be vertical\n",
        "X2 = np.hstack((X2_ones, X2_reshape)) # Stacking ones vector and X1 data into the same array as adjacent columns\n",
        "X2[:5] # Showing the above"
      ],
      "metadata": {
        "colab": {
          "base_uri": "https://localhost:8080/"
        },
        "id": "CcXLyqmznaN9",
        "outputId": "146936bc-1143-456f-e551-88baa37b1f63"
      },
      "execution_count": 93,
      "outputs": [
        {
          "output_type": "execute_result",
          "data": {
            "text/plain": [
              "array([[1.        , 3.44      ],\n",
              "       [1.        , 0.1349495 ],\n",
              "       [1.        , 0.82989899],\n",
              "       [1.        , 1.52484848],\n",
              "       [1.        , 2.21979798]])"
            ]
          },
          "metadata": {},
          "execution_count": 93
        }
      ]
    },
    {
      "cell_type": "code",
      "source": [
        "# Preparing X3\n",
        "X3_ones = np.ones((M3,1)) # Creating column vector of ones\n",
        "X3_reshape = X3.reshape(M3,1) #Reshape X1 to make a 2D array suitable for matrix operations\n",
        "X3_reshape[:10] # Showing the change to be vertical\n",
        "X3 = np.hstack((X3_ones, X3_reshape)) # Stacking ones vector and X1 data into the same array as adjacent columns\n",
        "X3[:5] # Showing the above"
      ],
      "metadata": {
        "colab": {
          "base_uri": "https://localhost:8080/"
        },
        "id": "zsd5gpZwnijK",
        "outputId": "0be407f6-7c4e-40fd-e772-611291e3b1bf"
      },
      "execution_count": 94,
      "outputs": [
        {
          "output_type": "execute_result",
          "data": {
            "text/plain": [
              "array([[1.        , 0.44      ],\n",
              "       [1.        , 0.88848485],\n",
              "       [1.        , 1.3369697 ],\n",
              "       [1.        , 1.78545454],\n",
              "       [1.        , 2.23393939]])"
            ]
          },
          "metadata": {},
          "execution_count": 94
        }
      ]
    },
    {
      "cell_type": "code",
      "source": [
        "theta1 = np.zeros(2) # Initializing thetas for X1 as 0\n",
        "theta2 = np.zeros(2) # Initializing thetas for X2 as 0\n",
        "theta3 = np.zeros(2) # Initializing thetas for X3 as 0"
      ],
      "metadata": {
        "id": "b0aaV5JUiLX4"
      },
      "execution_count": 95,
      "outputs": []
    },
    {
      "cell_type": "code",
      "source": [
        "def compute_cost(X, y, theta):\n",
        "    \"\"\"\n",
        "    Compute cost for linear regression.\n",
        "\n",
        "    Parameters:\n",
        "    X : 2D array where each row represents the training example and each column represent the feature\n",
        "        m = number of training examples\n",
        "        n = number of features (including X_0 column of ones)\n",
        "    y : 1D array of labels/target values for each training example. dimension(m)\n",
        "    theta : 1D array of fitting parameters or weights. Dimension (n)\n",
        "\n",
        "    Returns:\n",
        "    J : Scalar value, the cost\n",
        "    \"\"\"\n",
        "    m = len(y)\n",
        "    predictions = X.dot(theta)\n",
        "    errors = np.subtract(predictions, y)\n",
        "    sqrErrors = np.square(errors)\n",
        "    J = 1 / (2 * m) * np.sum(sqrErrors)\n",
        "    return J"
      ],
      "metadata": {
        "id": "szf8jSvtiZx0"
      },
      "execution_count": 96,
      "outputs": []
    },
    {
      "cell_type": "code",
      "source": [
        "# Compute the cost for theta values of X1\n",
        "cost1 = compute_cost(X1, Y, theta1)\n",
        "print('The cost for given values of theta_0 and theta_1 of X1 =', cost1)"
      ],
      "metadata": {
        "colab": {
          "base_uri": "https://localhost:8080/"
        },
        "id": "3wjPFzXWjZab",
        "outputId": "1331eb11-e9cf-4770-d6a4-bc9774c45c47"
      },
      "execution_count": 97,
      "outputs": [
        {
          "output_type": "stream",
          "name": "stdout",
          "text": [
            "The cost for given values of theta_0 and theta_1 of X1 = 5.524438459196242\n"
          ]
        }
      ]
    },
    {
      "cell_type": "code",
      "source": [
        "# Compute the cost for theta values of X2\n",
        "cost2 = compute_cost(X2, Y, theta2)\n",
        "print('The cost for given values of theta_0 and theta_1 of X2 =', cost2)"
      ],
      "metadata": {
        "colab": {
          "base_uri": "https://localhost:8080/"
        },
        "id": "5ZHgwGrem4Sc",
        "outputId": "c5832efe-f6db-43ca-c069-b9f9c94be40d"
      },
      "execution_count": 98,
      "outputs": [
        {
          "output_type": "stream",
          "name": "stdout",
          "text": [
            "The cost for given values of theta_0 and theta_1 of X2 = 5.524438459196242\n"
          ]
        }
      ]
    },
    {
      "cell_type": "code",
      "source": [
        "# Compute the cost for theta values of X3\n",
        "cost3 = compute_cost(X3, Y, theta3)\n",
        "print('The cost for given values of theta_0 and theta_1 of X3 =', cost3)"
      ],
      "metadata": {
        "colab": {
          "base_uri": "https://localhost:8080/"
        },
        "id": "kQ3lm_4am5am",
        "outputId": "9c08da41-bcb6-4277-9d50-f98ae406ebb6"
      },
      "execution_count": 99,
      "outputs": [
        {
          "output_type": "stream",
          "name": "stdout",
          "text": [
            "The cost for given values of theta_0 and theta_1 of X3 = 5.524438459196242\n"
          ]
        }
      ]
    },
    {
      "cell_type": "code",
      "source": [
        "def gradient_descent(X, y, theta, alpha, iterations):\n",
        "    \"\"\"\n",
        "    Compute the optimal parameters using gradient descent for linear regression.\n",
        "\n",
        "    Parameters:\n",
        "    X : 2D array where each row represents the training example and each column represents the feature\n",
        "        m = number of training examples\n",
        "        n = number of features (including X_0 column of ones)\n",
        "    y : 1D array of labels/target values for each training example. dimension(m)\n",
        "    theta : 1D array of fitting parameters or weights. Dimension (n)\n",
        "    alpha : Learning rate (scalar)\n",
        "    iterations : Number of iterations (scalar)\n",
        "\n",
        "    Returns:\n",
        "    theta : Updated values of fitting parameters or weights after 'iterations' iterations. Dimension (n)\n",
        "    cost_history : Array containing the cost for each iteration. Dimension (iterations)\n",
        "    \"\"\"\n",
        "\n",
        "    m = len(y)  # Number of training examples\n",
        "    cost_history = np.zeros(iterations)\n",
        "\n",
        "    for i in range(iterations):\n",
        "        predictions = X.dot(theta)\n",
        "        errors = np.subtract(predictions, y)\n",
        "        sum_delta = (alpha / m) * X.transpose().dot(errors)\n",
        "        theta -= sum_delta\n",
        "        cost_history[i] = compute_cost(X, y, theta)\n",
        "\n",
        "    return theta, cost_history"
      ],
      "metadata": {
        "id": "ltVI8iaBjsar"
      },
      "execution_count": 100,
      "outputs": []
    },
    {
      "cell_type": "code",
      "source": [
        "# Defining parameters needed for gradient descent\n",
        "iterations = 1500 # Number provided\n",
        "alpha1 = 0.1 # Explore different values between 0.1 and 0.01, choose best for X1\n",
        "alpha2 = 0.1 # Explore different values between 0.1 and 0.01, choose best for X2\n",
        "alpha3 = 0.1 # Explore different values between 0.1 and 0.01, choose best for X3"
      ],
      "metadata": {
        "id": "wvzXOiiZkiaW"
      },
      "execution_count": 101,
      "outputs": []
    },
    {
      "cell_type": "code",
      "source": [
        " # Gradient descent for X1\n",
        "theta1, cost_history1 = gradient_descent(X1, Y, theta1, alpha1, iterations)\n",
        "print('Final value of theta for X1 = ', theta1)\n",
        "print('cost_history1 = ', cost_history1)"
      ],
      "metadata": {
        "colab": {
          "base_uri": "https://localhost:8080/"
        },
        "id": "_AWbdFEvk-tw",
        "outputId": "0eae3e6d-7937-4a35-992a-f2504c7ac1a2"
      },
      "execution_count": 102,
      "outputs": [
        {
          "output_type": "stream",
          "name": "stdout",
          "text": [
            "Final value of theta for X1 =  [ 5.92794892 -2.03833663]\n",
            "cost_history1 =  [5.16999006 4.96338989 4.7855721  ... 0.98499308 0.98499308 0.98499308]\n"
          ]
        }
      ]
    },
    {
      "cell_type": "code",
      "source": [
        "#Scatter plot for the training data X1\n",
        "plt.scatter(X1[:, 1], Y, color='red', marker='+', label='Training Data X1')\n",
        "\n",
        "#Line plot for the linear regression moidel\n",
        "plt.plot(X1[:,1], X1.dot(theta1), color='green', label='Linear Regression for X1')\n",
        "\n",
        "#Plot customizations\n",
        "plt.rcParams[\"figure.figsize\"]=(10,6)\n",
        "plt.grid(True)\n",
        "plt.xlabel('Independent Variable X1')\n",
        "plt.ylabel('Dependent Variable Y')\n",
        "plt.title('Linear Regression Fit for X1')\n",
        "plt.legend()\n",
        "\n",
        "# Show the plot\n",
        "plt.show()\n"
      ],
      "metadata": {
        "colab": {
          "base_uri": "https://localhost:8080/",
          "height": 564
        },
        "id": "E8cX_sOulcXi",
        "outputId": "d60e5639-8356-47e6-fdd4-a6b074858210"
      },
      "execution_count": 103,
      "outputs": [
        {
          "output_type": "display_data",
          "data": {
            "text/plain": [
              "<Figure size 1000x600 with 1 Axes>"
            ],
            "image/png": "[encoded data removed]"
          },
          "metadata": {}
        }
      ]
    },
    {
      "cell_type": "code",
      "source": [
        "#Convergence of gradient descent for X1\n",
        "plt.plot(range(1, iterations + 1), cost_history1, color='blue')\n",
        "plt.rcParams[\"figure.figsize\"] = (10, 6)\n",
        "plt.grid(True)\n",
        "\n",
        "plt.xlabel('Number of iterations')\n",
        "plt.ylabel('Cost (J)')\n",
        "plt.title('Convergence of Gradient Descent for X1')\n",
        "\n",
        "# Show the plot\n",
        "plt.show()\n"
      ],
      "metadata": {
        "colab": {
          "base_uri": "https://localhost:8080/",
          "height": 564
        },
        "id": "1xYV41H0y6Et",
        "outputId": "c1ddfa30-b59e-414f-c60f-7695e72f05d7"
      },
      "execution_count": 104,
      "outputs": [
        {
          "output_type": "display_data",
          "data": {
            "text/plain": [
              "<Figure size 1000x600 with 1 Axes>"
            ],
            "image/png": "[encoded data removed]"
          },
          "metadata": {}
        }
      ]
    },
    {
      "cell_type": "code",
      "source": [
        "# Gradient descent for X2\n",
        "theta2, cost_history2 = gradient_descent(X2, Y, theta2, alpha2, iterations)\n",
        "print('Final value of theta for X2 = ', theta2)\n",
        "print('cost_history2 = ', cost_history2)"
      ],
      "metadata": {
        "colab": {
          "base_uri": "https://localhost:8080/"
        },
        "id": "wZ3INdWNoY89",
        "outputId": "28ce8c8d-4cca-4697-eaab-4ad0a5b3589d"
      },
      "execution_count": 105,
      "outputs": [
        {
          "output_type": "stream",
          "name": "stdout",
          "text": [
            "Final value of theta for X2 =  [0.73606043 0.55760761]\n",
            "cost_history2 =  [3.90731819 3.66528504 3.62832072 ... 3.59936602 3.59936602 3.59936602]\n"
          ]
        }
      ]
    },
    {
      "cell_type": "code",
      "source": [
        "#Scatter plot for the training data X2\n",
        "plt.scatter(X2[:, 1], Y, color='red', marker='+', label='Training Data X2')\n",
        "\n",
        "#Line plot for the linear regression moidel\n",
        "plt.plot(X2[:,1], X2.dot(theta2), color='green', label='Linear Regression for X2')\n",
        "\n",
        "#Plot customizations\n",
        "plt.rcParams[\"figure.figsize\"]=(10,6)\n",
        "plt.grid(True)\n",
        "plt.xlabel('Independent Variable X2')\n",
        "plt.ylabel('Dependent Variable Y')\n",
        "plt.title('Linear Regression Fit for X2')\n",
        "plt.legend()\n",
        "\n",
        "# Show the plot\n",
        "plt.show()\n"
      ],
      "metadata": {
        "colab": {
          "base_uri": "https://localhost:8080/",
          "height": 564
        },
        "id": "gE-85ZNQorUx",
        "outputId": "7b9f4772-80d1-437a-b60f-00c9d751f7d8"
      },
      "execution_count": 106,
      "outputs": [
        {
          "output_type": "display_data",
          "data": {
            "text/plain": [
              "<Figure size 1000x600 with 1 Axes>"
            ],
            "image/png": "[encoded data removed]"
          },
          "metadata": {}
        }
      ]
    },
    {
      "cell_type": "code",
      "source": [
        "#Convergence of gradient descent for X2\n",
        "plt.plot(range(1, iterations + 1), cost_history2, color='blue')\n",
        "plt.rcParams[\"figure.figsize\"] = (10, 6)\n",
        "plt.grid(True)\n",
        "\n",
        "plt.xlabel('Number of iterations')\n",
        "plt.ylabel('Cost (J)')\n",
        "plt.title('Convergence of Gradient Descent for X2')\n",
        "\n",
        "# Show the plot\n",
        "plt.show()\n"
      ],
      "metadata": {
        "colab": {
          "base_uri": "https://localhost:8080/",
          "height": 564
        },
        "id": "nFGNc3bMzFY6",
        "outputId": "9cf5224b-39e6-481d-f3fd-fb2ff0bd96c9"
      },
      "execution_count": 107,
      "outputs": [
        {
          "output_type": "display_data",
          "data": {
            "text/plain": [
              "<Figure size 1000x600 with 1 Axes>"
            ],
            "image/png": "[encoded data removed]"
          },
          "metadata": {}
        }
      ]
    },
    {
      "cell_type": "code",
      "source": [
        "# Gradient descent for X3\n",
        "theta3, cost_history3 = gradient_descent(X3, Y, theta3, alpha3, iterations)\n",
        "print('Final value of theta for X3 = ', theta3)\n",
        "print('cost_history3 = ', cost_history3)"
      ],
      "metadata": {
        "colab": {
          "base_uri": "https://localhost:8080/"
        },
        "id": "Ul31mcg_o_Gz",
        "outputId": "53f7ab94-49b2-4ec4-cb00-5aed299fe6c4"
      },
      "execution_count": 108,
      "outputs": [
        {
          "output_type": "stream",
          "name": "stdout",
          "text": [
            "Final value of theta for X3 =  [ 2.8714221  -0.52048288]\n",
            "cost_history3 =  [4.66843939 4.49602325 4.43685075 ... 3.62945112 3.62945112 3.62945112]\n"
          ]
        }
      ]
    },
    {
      "cell_type": "code",
      "source": [
        "#Scatter plot for the training data X3\n",
        "plt.scatter(X3[:, 1], Y, color='red', marker='+', label='Training Data X3')\n",
        "\n",
        "#Line plot for the linear regression moidel\n",
        "plt.plot(X3[:,1], X3.dot(theta3), color='green', label='Linear Regression for X3')\n",
        "\n",
        "#Plot customizations\n",
        "plt.rcParams[\"figure.figsize\"]=(10,6)\n",
        "plt.grid(True)\n",
        "plt.xlabel('Independent Variable X3')\n",
        "plt.ylabel('Dependent Variable Y')\n",
        "plt.title('Linear Regression Fit for X3')\n",
        "plt.legend()\n",
        "\n",
        "# Show the plot\n",
        "plt.show()\n"
      ],
      "metadata": {
        "colab": {
          "base_uri": "https://localhost:8080/",
          "height": 564
        },
        "id": "OxU64_ICpKhl",
        "outputId": "bd141ecd-194e-4796-9ef7-45f37acab8ab"
      },
      "execution_count": 109,
      "outputs": [
        {
          "output_type": "display_data",
          "data": {
            "text/plain": [
              "<Figure size 1000x600 with 1 Axes>"
            ],
            "image/png": "[encoded data removed]"
          },
          "metadata": {}
        }
      ]
    },
    {
      "cell_type": "code",
      "source": [
        "#Convergence of gradient descent for X3\n",
        "plt.plot(range(1, iterations + 1), cost_history3, color='blue')\n",
        "plt.rcParams[\"figure.figsize\"] = (10, 6)\n",
        "plt.grid(True)\n",
        "\n",
        "plt.xlabel('Number of iterations')\n",
        "plt.ylabel('Cost (J)')\n",
        "plt.title('Convergence of Gradient Descent for X3')\n",
        "\n",
        "# Show the plot\n",
        "plt.show()\n"
      ],
      "metadata": {
        "colab": {
          "base_uri": "https://localhost:8080/",
          "height": 564
        },
        "id": "h6CUJnXYzRN4",
        "outputId": "71a84323-4095-44a0-e845-5785154e1201"
      },
      "execution_count": 110,
      "outputs": [
        {
          "output_type": "display_data",
          "data": {
            "text/plain": [
              "<Figure size 1000x600 with 1 Axes>"
            ],
            "image/png": "[encoded data removed]"
          },
          "metadata": {}
        }
      ]
    },
    {
      "cell_type": "code",
      "source": [
        "sample.head() #Show first 5 of .csv data to confirm import success"
      ],
      "metadata": {
        "colab": {
          "base_uri": "https://localhost:8080/",
          "height": 206
        },
        "id": "MlnYnTMZsF6c",
        "outputId": "871ffa82-adc4-4616-b77f-5b3b50d427fc"
      },
      "execution_count": 111,
      "outputs": [
        {
          "output_type": "execute_result",
          "data": {
            "text/plain": [
              "         X1        X2        X3         Y\n",
              "0  0.000000  3.440000  0.440000  4.387545\n",
              "1  0.040404  0.134949  0.888485  2.679650\n",
              "2  0.080808  0.829899  1.336970  2.968490\n",
              "3  0.121212  1.524848  1.785455  3.254065\n",
              "4  0.161616  2.219798  2.233939  3.536375"
            ],
            "text/html": [
              "\n",
              "  <div id=\"df-2f59036b-0e32-4da4-914f-b9db2ce5b82b\" class=\"colab-df-container\">\n",
              "    <div>\n",
              "<style scoped>\n",
              "    .dataframe tbody tr th:only-of-type {\n",
              "        vertical-align: middle;\n",
              "    }\n",
              "\n",
              "    .dataframe tbody tr th {\n",
              "        vertical-align: top;\n",
              "    }\n",
              "\n",
              "    .dataframe thead th {\n",
              "        text-align: right;\n",
              "    }\n",
              "</style>\n",
              "<table border=\"1\" class=\"dataframe\">\n",
              "  <thead>\n",
              "    <tr style=\"text-align: right;\">\n",
              "      <th></th>\n",
              "      <th>X1</th>\n",
              "      <th>X2</th>\n",
              "      <th>X3</th>\n",
              "      <th>Y</th>\n",
              "    </tr>\n",
              "  </thead>\n",
              "  <tbody>\n",
              "    <tr>\n",
              "      <th>0</th>\n",
              "      <td>0.000000</td>\n",
              "      <td>3.440000</td>\n",
              "      <td>0.440000</td>\n",
              "      <td>4.387545</td>\n",
              "    </tr>\n",
              "    <tr>\n",
              "      <th>1</th>\n",
              "      <td>0.040404</td>\n",
              "      <td>0.134949</td>\n",
              "      <td>0.888485</td>\n",
              "      <td>2.679650</td>\n",
              "    </tr>\n",
              "    <tr>\n",
              "      <th>2</th>\n",
              "      <td>0.080808</td>\n",
              "      <td>0.829899</td>\n",
              "      <td>1.336970</td>\n",
              "      <td>2.968490</td>\n",
              "    </tr>\n",
              "    <tr>\n",
              "      <th>3</th>\n",
              "      <td>0.121212</td>\n",
              "      <td>1.524848</td>\n",
              "      <td>1.785455</td>\n",
              "      <td>3.254065</td>\n",
              "    </tr>\n",
              "    <tr>\n",
              "      <th>4</th>\n",
              "      <td>0.161616</td>\n",
              "      <td>2.219798</td>\n",
              "      <td>2.233939</td>\n",
              "      <td>3.536375</td>\n",
              "    </tr>\n",
              "  </tbody>\n",
              "</table>\n",
              "</div>\n",
              "    <div class=\"colab-df-buttons\">\n",
              "\n",
              "  <div class=\"colab-df-container\">\n",
              "    <button class=\"colab-df-convert\" onclick=\"convertToInteractive('df-2f59036b-0e32-4da4-914f-b9db2ce5b82b')\"\n",
              "            title=\"Convert this dataframe to an interactive table.\"\n",
              "            style=\"display:none;\">\n",
              "\n",
              "  <svg xmlns=\"http://www.w3.org/2000/svg\" height=\"24px\" viewBox=\"0 -960 960 960\">\n",
              "    <path d=\"M120-120v-720h720v720H120Zm60-500h600v-160H180v160Zm220 220h160v-160H400v160Zm0 220h160v-160H400v160ZM180-400h160v-160H180v160Zm440 0h160v-160H620v160ZM180-180h160v-160H180v160Zm440 0h160v-160H620v160Z\"/>\n",
              "  </svg>\n",
              "    </button>\n",
              "\n",
              "  <style>\n",
              "    .colab-df-container {\n",
              "      display:flex;\n",
              "      gap: 12px;\n",
              "    }\n",
              "\n",
              "    .colab-df-convert {\n",
              "      background-color: #E8F0FE;\n",
              "      border: none;\n",
              "      border-radius: 50%;\n",
              "      cursor: pointer;\n",
              "      display: none;\n",
              "      fill: #1967D2;\n",
              "      height: 32px;\n",
              "      padding: 0 0 0 0;\n",
              "      width: 32px;\n",
              "    }\n",
              "\n",
              "    .colab-df-convert:hover {\n",
              "      background-color: #E2EBFA;\n",
              "      box-shadow: 0px 1px 2px rgba(60, 64, 67, 0.3), 0px 1px 3px 1px rgba(60, 64, 67, 0.15);\n",
              "      fill: #174EA6;\n",
              "    }\n",
              "\n",
              "    .colab-df-buttons div {\n",
              "      margin-bottom: 4px;\n",
              "    }\n",
              "\n",
              "    [theme=dark] .colab-df-convert {\n",
              "      background-color: #3B4455;\n",
              "      fill: #D2E3FC;\n",
              "    }\n",
              "\n",
              "    [theme=dark] .colab-df-convert:hover {\n",
              "      background-color: #434B5C;\n",
              "      box-shadow: 0px 1px 3px 1px rgba(0, 0, 0, 0.15);\n",
              "      filter: drop-shadow(0px 1px 2px rgba(0, 0, 0, 0.3));\n",
              "      fill: #FFFFFF;\n",
              "    }\n",
              "  </style>\n",
              "\n",
              "    <script>\n",
              "      const buttonEl =\n",
              "        document.querySelector('#df-2f59036b-0e32-4da4-914f-b9db2ce5b82b button.colab-df-convert');\n",
              "      buttonEl.style.display =\n",
              "        google.colab.kernel.accessAllowed ? 'block' : 'none';\n",
              "\n",
              "      async function convertToInteractive(key) {\n",
              "        const element = document.querySelector('#df-2f59036b-0e32-4da4-914f-b9db2ce5b82b');\n",
              "        const dataTable =\n",
              "          await google.colab.kernel.invokeFunction('convertToInteractive',\n",
              "                                                    [key], {});\n",
              "        if (!dataTable) return;\n",
              "\n",
              "        const docLinkHtml = 'Like what you see? Visit the ' +\n",
              "          '<a target=\"_blank\" href=https://colab.research.google.com/notebooks/data_table.ipynb>data table notebook</a>'\n",
              "          + ' to learn more about interactive tables.';\n",
              "        element.innerHTML = '';\n",
              "        dataTable['output_type'] = 'display_data';\n",
              "        await google.colab.output.renderOutput(dataTable, element);\n",
              "        const docLink = document.createElement('div');\n",
              "        docLink.innerHTML = docLinkHtml;\n",
              "        element.appendChild(docLink);\n",
              "      }\n",
              "    </script>\n",
              "  </div>\n",
              "\n",
              "\n",
              "<div id=\"df-8fe0f9c7-f419-4891-ba8c-024538c7b998\">\n",
              "  <button class=\"colab-df-quickchart\" onclick=\"quickchart('df-8fe0f9c7-f419-4891-ba8c-024538c7b998')\"\n",
              "            title=\"Suggest charts.\"\n",
              "            style=\"display:none;\">\n",
              "\n",
              "<svg xmlns=\"http://www.w3.org/2000/svg\" height=\"24px\"viewBox=\"0 0 24 24\"\n",
              "     width=\"24px\">\n",
              "    <g>\n",
              "        <path d=\"M19 3H5c-1.1 0-2 .9-2 2v14c0 1.1.9 2 2 2h14c1.1 0 2-.9 2-2V5c0-1.1-.9-2-2-2zM9 17H7v-7h2v7zm4 0h-2V7h2v10zm4 0h-2v-4h2v4z\"/>\n",
              "    </g>\n",
              "</svg>\n",
              "  </button>\n",
              "\n",
              "<style>\n",
              "  .colab-df-quickchart {\n",
              "      --bg-color: #E8F0FE;\n",
              "      --fill-color: #1967D2;\n",
              "      --hover-bg-color: #E2EBFA;\n",
              "      --hover-fill-color: #174EA6;\n",
              "      --disabled-fill-color: #AAA;\n",
              "      --disabled-bg-color: #DDD;\n",
              "  }\n",
              "\n",
              "  [theme=dark] .colab-df-quickchart {\n",
              "      --bg-color: #3B4455;\n",
              "      --fill-color: #D2E3FC;\n",
              "      --hover-bg-color: #434B5C;\n",
              "      --hover-fill-color: #FFFFFF;\n",
              "      --disabled-bg-color: #3B4455;\n",
              "      --disabled-fill-color: #666;\n",
              "  }\n",
              "\n",
              "  .colab-df-quickchart {\n",
              "    background-color: var(--bg-color);\n",
              "    border: none;\n",
              "    border-radius: 50%;\n",
              "    cursor: pointer;\n",
              "    display: none;\n",
              "    fill: var(--fill-color);\n",
              "    height: 32px;\n",
              "    padding: 0;\n",
              "    width: 32px;\n",
              "  }\n",
              "\n",
              "  .colab-df-quickchart:hover {\n",
              "    background-color: var(--hover-bg-color);\n",
              "    box-shadow: 0 1px 2px rgba(60, 64, 67, 0.3), 0 1px 3px 1px rgba(60, 64, 67, 0.15);\n",
              "    fill: var(--button-hover-fill-color);\n",
              "  }\n",
              "\n",
              "  .colab-df-quickchart-complete:disabled,\n",
              "  .colab-df-quickchart-complete:disabled:hover {\n",
              "    background-color: var(--disabled-bg-color);\n",
              "    fill: var(--disabled-fill-color);\n",
              "    box-shadow: none;\n",
              "  }\n",
              "\n",
              "  .colab-df-spinner {\n",
              "    border: 2px solid var(--fill-color);\n",
              "    border-color: transparent;\n",
              "    border-bottom-color: var(--fill-color);\n",
              "    animation:\n",
              "      spin 1s steps(1) infinite;\n",
              "  }\n",
              "\n",
              "  @keyframes spin {\n",
              "    0% {\n",
              "      border-color: transparent;\n",
              "      border-bottom-color: var(--fill-color);\n",
              "      border-left-color: var(--fill-color);\n",
              "    }\n",
              "    20% {\n",
              "      border-color: transparent;\n",
              "      border-left-color: var(--fill-color);\n",
              "      border-top-color: var(--fill-color);\n",
              "    }\n",
              "    30% {\n",
              "      border-color: transparent;\n",
              "      border-left-color: var(--fill-color);\n",
              "      border-top-color: var(--fill-color);\n",
              "      border-right-color: var(--fill-color);\n",
              "    }\n",
              "    40% {\n",
              "      border-color: transparent;\n",
              "      border-right-color: var(--fill-color);\n",
              "      border-top-color: var(--fill-color);\n",
              "    }\n",
              "    60% {\n",
              "      border-color: transparent;\n",
              "      border-right-color: var(--fill-color);\n",
              "    }\n",
              "    80% {\n",
              "      border-color: transparent;\n",
              "      border-right-color: var(--fill-color);\n",
              "      border-bottom-color: var(--fill-color);\n",
              "    }\n",
              "    90% {\n",
              "      border-color: transparent;\n",
              "      border-bottom-color: var(--fill-color);\n",
              "    }\n",
              "  }\n",
              "</style>\n",
              "\n",
              "  <script>\n",
              "    async function quickchart(key) {\n",
              "      const quickchartButtonEl =\n",
              "        document.querySelector('#' + key + ' button');\n",
              "      quickchartButtonEl.disabled = true;  // To prevent multiple clicks.\n",
              "      quickchartButtonEl.classList.add('colab-df-spinner');\n",
              "      try {\n",
              "        const charts = await google.colab.kernel.invokeFunction(\n",
              "            'suggestCharts', [key], {});\n",
              "      } catch (error) {\n",
              "        console.error('Error during call to suggestCharts:', error);\n",
              "      }\n",
              "      quickchartButtonEl.classList.remove('colab-df-spinner');\n",
              "      quickchartButtonEl.classList.add('colab-df-quickchart-complete');\n",
              "    }\n",
              "    (() => {\n",
              "      let quickchartButtonEl =\n",
              "        document.querySelector('#df-8fe0f9c7-f419-4891-ba8c-024538c7b998 button');\n",
              "      quickchartButtonEl.style.display =\n",
              "        google.colab.kernel.accessAllowed ? 'block' : 'none';\n",
              "    })();\n",
              "  </script>\n",
              "</div>\n",
              "    </div>\n",
              "  </div>\n"
            ]
          },
          "metadata": {},
          "execution_count": 111
        }
      ]
    },
    {
      "cell_type": "code",
      "source": [
        "X1_new = sample.values[:,0] # Input variable X1 from first column\n",
        "X2_new = sample.values[:,1] # Input variable X2 from second column\n",
        "X3_new = sample.values[:,2] # Input variable X3 from third column\n",
        "\n",
        "# Preparing X1 as a base\n",
        "X1_new_ones = np.ones((M1,1)) # Creating column vector of ones\n",
        "X1_new_reshape = X1_new.reshape(M1,1) #Reshape X1 to make a 2D array suitable for matrix operations\n",
        "X1_new_reshape[:10] # Showing the change to be vertical\n",
        "X1_new = np.hstack((X1_new_ones, X1_new_reshape)) # Stacking ones vector and X1 data into the same array as adjacent columns\n",
        "X1_new[:5] # Showing the above"
      ],
      "metadata": {
        "colab": {
          "base_uri": "https://localhost:8080/"
        },
        "id": "D6VlISY0ssT3",
        "outputId": "b3e0a03e-40c3-4c33-e11e-2946be0f3371"
      },
      "execution_count": 112,
      "outputs": [
        {
          "output_type": "execute_result",
          "data": {
            "text/plain": [
              "array([[1.        , 0.        ],\n",
              "       [1.        , 0.04040404],\n",
              "       [1.        , 0.08080808],\n",
              "       [1.        , 0.12121212],\n",
              "       [1.        , 0.16161616]])"
            ]
          },
          "metadata": {},
          "execution_count": 112
        }
      ]
    },
    {
      "cell_type": "code",
      "source": [
        "#Preparing X2 to be combined\n",
        "X2_new = X2_new.reshape(M2,1) #Reshape X2 to make a 2D array suitable for matrix operations\n",
        "X2_new[:10] #Showing change to be vertical"
      ],
      "metadata": {
        "colab": {
          "base_uri": "https://localhost:8080/"
        },
        "id": "6RdB8DihvHDM",
        "outputId": "e3e95fbc-ec67-4213-c14e-5cc432b0df4a"
      },
      "execution_count": 113,
      "outputs": [
        {
          "output_type": "execute_result",
          "data": {
            "text/plain": [
              "array([[3.44      ],\n",
              "       [0.1349495 ],\n",
              "       [0.82989899],\n",
              "       [1.52484848],\n",
              "       [2.21979798],\n",
              "       [2.91474747],\n",
              "       [3.60969697],\n",
              "       [0.30464646],\n",
              "       [0.99959596],\n",
              "       [1.69454546]])"
            ]
          },
          "metadata": {},
          "execution_count": 113
        }
      ]
    },
    {
      "cell_type": "code",
      "source": [
        "#Preparing X3 to be combined\n",
        "X3_new = X3_new.reshape(M3,1) #Reshape X3 to make a 2D array suitable for matrix operations\n",
        "X3_new[:10] #Showing change to be vertical"
      ],
      "metadata": {
        "colab": {
          "base_uri": "https://localhost:8080/"
        },
        "id": "177awbvQvmUq",
        "outputId": "22e94967-2157-4cc8-c743-63b478fbffea"
      },
      "execution_count": 114,
      "outputs": [
        {
          "output_type": "execute_result",
          "data": {
            "text/plain": [
              "array([[0.44      ],\n",
              "       [0.88848485],\n",
              "       [1.3369697 ],\n",
              "       [1.78545454],\n",
              "       [2.23393939],\n",
              "       [2.68242424],\n",
              "       [3.13090909],\n",
              "       [3.57939394],\n",
              "       [0.02787879],\n",
              "       [0.47636364]])"
            ]
          },
          "metadata": {},
          "execution_count": 114
        }
      ]
    },
    {
      "cell_type": "code",
      "source": [
        "# Combing input variable into one array\n",
        "X_Combined = np.hstack((X1_new, X2_new, X3_new)) #Stacking 1s column X1 column with X2 and X3 columns adjacent to each other\n",
        "X_Combined[:5] #Showing the combination of inputs"
      ],
      "metadata": {
        "colab": {
          "base_uri": "https://localhost:8080/"
        },
        "id": "nNYxDFmTv-iI",
        "outputId": "59e313bb-8301-4619-a7c2-11e2f62c62fc"
      },
      "execution_count": 115,
      "outputs": [
        {
          "output_type": "execute_result",
          "data": {
            "text/plain": [
              "array([[1.        , 0.        , 3.44      , 0.44      ],\n",
              "       [1.        , 0.04040404, 0.1349495 , 0.88848485],\n",
              "       [1.        , 0.08080808, 0.82989899, 1.3369697 ],\n",
              "       [1.        , 0.12121212, 1.52484848, 1.78545454],\n",
              "       [1.        , 0.16161616, 2.21979798, 2.23393939]])"
            ]
          },
          "metadata": {},
          "execution_count": 115
        }
      ]
    },
    {
      "cell_type": "code",
      "source": [
        "#Initializing thetas to 0\n",
        "thetas = np.zeros(4) #4 thetas required for 3 input variables\n",
        "\n",
        "#Defining alpha and iterations\n",
        "alpha = 0.04 #Explore different values between 0.1 and 0.01 to find best choice"
      ],
      "metadata": {
        "id": "amk70tpPx0pI"
      },
      "execution_count": 118,
      "outputs": []
    },
    {
      "cell_type": "code",
      "source": [
        "# Gradient descent for all input variables combines\n",
        "# These values will be used in report to create h(x)\n",
        "# Linear regression plot not generated, as 4-d would be required, unknown how to do\n",
        "thetas_combined, cost_history_combined = gradient_descent(X_Combined, Y, thetas, alpha, iterations)\n",
        "print('Final value of theta for all 3 inputs = ', thetas_combined)\n",
        "print('cost_history_combined = ', cost_history_combined)"
      ],
      "metadata": {
        "colab": {
          "base_uri": "https://localhost:8080/"
        },
        "id": "f2p4bcbZy8eW",
        "outputId": "f81d38c8-e478-4a2b-99f9-b24bd76a29f8"
      },
      "execution_count": 119,
      "outputs": [
        {
          "output_type": "stream",
          "name": "stdout",
          "text": [
            "Final value of theta for all 3 inputs =  [ 5.30120817 -2.0018886   0.53470473 -0.26370234]\n",
            "cost_history_combined =  [4.51455638 4.13668881 3.89647561 ... 0.73847333 0.73847326 0.73847319]\n"
          ]
        }
      ]
    },
    {
      "cell_type": "code",
      "source": [
        "#Convergence of gradient descent for all input variables\n",
        "plt.plot(range(1, iterations + 1), cost_history_combined, color='blue')\n",
        "plt.rcParams[\"figure.figsize\"] = (10, 6)\n",
        "plt.grid(True)\n",
        "\n",
        "plt.xlabel('Number of iterations')\n",
        "plt.ylabel('Cost (J)')\n",
        "plt.title('Convergence of Gradient Descent for all input variables')\n",
        "\n",
        "# Show the plot\n",
        "plt.show()"
      ],
      "metadata": {
        "colab": {
          "base_uri": "https://localhost:8080/",
          "height": 564
        },
        "id": "fXFfz1b-z5x4",
        "outputId": "17c99864-cca2-4bde-dedc-0a3ddb505d1e"
      },
      "execution_count": 120,
      "outputs": [
        {
          "output_type": "display_data",
          "data": {
            "text/plain": [
              "<Figure size 1000x600 with 1 Axes>"
            ],
            "image/png": "[encoded data removed]"
          },
          "metadata": {}
        }
      ]
    }
  ]
}